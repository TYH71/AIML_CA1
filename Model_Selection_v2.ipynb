{
  "nbformat": 4,
  "nbformat_minor": 0,
  "metadata": {
    "colab": {
      "name": "Model Selection v2.ipynb",
      "provenance": [],
      "toc_visible": true,
      "machine_shape": "hm",
      "authorship_tag": "ABX9TyPf2ZkxvW6JZSDmfr26tfrj",
      "include_colab_link": true
    },
    "kernelspec": {
      "name": "python3",
      "display_name": "Python 3"
    },
    "language_info": {
      "name": "python"
    }
  },
  "cells": [
    {
      "cell_type": "markdown",
      "metadata": {
        "id": "view-in-github",
        "colab_type": "text"
      },
      "source": [
        "<a href=\"https://colab.research.google.com/github/TYH71/AIML_CA1/blob/main/Model_Selection_v2.ipynb\" target=\"_parent\"><img src=\"https://colab.research.google.com/assets/colab-badge.svg\" alt=\"Open In Colab\"/></a>"
      ]
    },
    {
      "cell_type": "markdown",
      "source": [
        "# PAI CA2 - Model Selection\n",
        "\n",
        "- Class: DAAA/FT/2B/04\n",
        "- Names: Yu Hoe, Dylan, Choon Wei\n",
        "- Author: Yu Hoe, Dylan\n",
        "\n",
        "## Objective\n",
        "\n",
        "> We aim to conduct a data science project workflow on **Just Taxi** telematic dataset, which includes applying advanced data processing techniques on the dataset, building and optimizing machine learning models, tracking and monitoring machine learning, and deploy the machine-learning model as a graphical user interface.\n",
        "\n",
        "## Motivation\n",
        "\n",
        "> This notebook is created to conduct the model selection process, to determine the most suitable machine learning algorithm for the **Just Taxi** telematic dataset."
      ],
      "metadata": {
        "id": "VOlRjuLaEIlu"
      }
    },
    {
      "cell_type": "code",
      "execution_count": 1,
      "metadata": {
        "id": "VWcuNvM81Suk"
      },
      "outputs": [],
      "source": [
        "# Import libraries\n",
        "import pandas as pd\n",
        "import numpy as np\n",
        "import matplotlib.pyplot as plt\n",
        "import seaborn as sns\n",
        "! pip install -q --upgrade imbalanced-learn\n",
        "import imblearn\n",
        "\n",
        "# Machine Learning Modules\n",
        "from sklearn.model_selection import train_test_split\n",
        "\n",
        "import warnings\n",
        "warnings.filterwarnings('ignore')"
      ]
    },
    {
      "cell_type": "code",
      "source": [
        "# Matplotlib styling\n",
        "plt.style.use('seaborn-dark')\n",
        "plt.rcParams['figure.figsize'] = 16, 9\n",
        "plt.rcParams['figure.autolayout'] = True"
      ],
      "metadata": {
        "id": "xVxCg8KZ4uYh"
      },
      "execution_count": 2,
      "outputs": []
    },
    {
      "cell_type": "markdown",
      "source": [
        "## Hardware Specifications\n",
        "\n",
        "|![Colab Logo](https://colab.research.google.com/img/colab_favicon_256px.png)|\n",
        "|:--:|\n",
        "|Google Colaboratory Logo [[Source](https://blog.tensorflow.org/2018/05/colab-easy-way-to-learn-and-use-tensorflow.html)]|\n",
        "\n",
        "Having the right resources is important to any data science project, which provides an increase in performance and quality. In our case, every team member has purchased [Colab Pro](https://colab.research.google.com/signup) for better GPUs and memory, in order to avoid any bottlenecks in computational performances.\n",
        "\n"
      ],
      "metadata": {
        "id": "Jkt6oYCZ5xkp"
      }
    },
    {
      "cell_type": "code",
      "source": [
        "# Retrieve CPU and GPU information\n",
        "! lscpu\n",
        "! nvidia-smi"
      ],
      "metadata": {
        "colab": {
          "base_uri": "https://localhost:8080/"
        },
        "id": "hHHL-rQT50W_",
        "outputId": "e4445f34-e853-4022-e28a-ff49e410c65b"
      },
      "execution_count": 3,
      "outputs": [
        {
          "output_type": "stream",
          "name": "stdout",
          "text": [
            "Architecture:        x86_64\n",
            "CPU op-mode(s):      32-bit, 64-bit\n",
            "Byte Order:          Little Endian\n",
            "CPU(s):              4\n",
            "On-line CPU(s) list: 0-3\n",
            "Thread(s) per core:  2\n",
            "Core(s) per socket:  2\n",
            "Socket(s):           1\n",
            "NUMA node(s):        1\n",
            "Vendor ID:           GenuineIntel\n",
            "CPU family:          6\n",
            "Model:               79\n",
            "Model name:          Intel(R) Xeon(R) CPU @ 2.20GHz\n",
            "Stepping:            0\n",
            "CPU MHz:             2199.998\n",
            "BogoMIPS:            4399.99\n",
            "Hypervisor vendor:   KVM\n",
            "Virtualization type: full\n",
            "L1d cache:           32K\n",
            "L1i cache:           32K\n",
            "L2 cache:            256K\n",
            "L3 cache:            56320K\n",
            "NUMA node0 CPU(s):   0-3\n",
            "Flags:               fpu vme de pse tsc msr pae mce cx8 apic sep mtrr pge mca cmov pat pse36 clflush mmx fxsr sse sse2 ss ht syscall nx pdpe1gb rdtscp lm constant_tsc rep_good nopl xtopology nonstop_tsc cpuid tsc_known_freq pni pclmulqdq ssse3 fma cx16 pcid sse4_1 sse4_2 x2apic movbe popcnt aes xsave avx f16c rdrand hypervisor lahf_lm abm 3dnowprefetch invpcid_single ssbd ibrs ibpb stibp fsgsbase tsc_adjust bmi1 hle avx2 smep bmi2 erms invpcid rtm rdseed adx smap xsaveopt arat md_clear arch_capabilities\n",
            "/bin/bash: nvidia-smi: command not found\n"
          ]
        }
      ]
    },
    {
      "cell_type": "markdown",
      "source": [
        "# Mounting Google Drive\n",
        "\n",
        "![Colab + Drive](https://miro.medium.com/max/956/1*BKyVeBWvz1TjhjkBLHpEsg.png)\n",
        "\n",
        "> In the previous phase of the project, our team has found much difficulty in collaborating on [GitHub](https://github.com/), as the `.csv` dataset crossed over the 100mb git limit. This brought the Waterflow workflow problem, where only one person could attempt their task while the rest stay idle. <br><br> For this phase of the project, we diverted away from this approach and used Google Drive instead to host the dataset such that every team member can have easy access to the dataset via [Google Colaboratory](https://colab.research.google.com/) during development process.\n",
        "\n",
        "```python\n",
        "# With only two lines of code, we can access Google Drive.\n",
        "from google.colab import drive\n",
        "drive.mount('/content/drive')\n",
        "```\n"
      ],
      "metadata": {
        "id": "6pXoR3J452Ro"
      }
    },
    {
      "cell_type": "code",
      "source": [
        "# Mounting Drive\n",
        "from google.colab import drive\n",
        "drive.mount('/content/drive')"
      ],
      "metadata": {
        "colab": {
          "base_uri": "https://localhost:8080/"
        },
        "id": "0dzBWNsZ503Q",
        "outputId": "015d33a6-1777-431e-d16b-3b3bdd35b2fb"
      },
      "execution_count": 4,
      "outputs": [
        {
          "output_type": "stream",
          "name": "stdout",
          "text": [
            "Drive already mounted at /content/drive; to attempt to forcibly remount, call drive.mount(\"/content/drive\", force_remount=True).\n"
          ]
        }
      ]
    },
    {
      "cell_type": "markdown",
      "source": [
        "## Metadata\n",
        "\n",
        "The telematics data collected during driving trips are useful to detect if the trip is dangerous and has high crash / accident probability.\n",
        "\n",
        "Data Schema (Field & Description):\n",
        "\n",
        "| bookingID | trip |\n",
        "| ---:|:--- |\n",
        "| accuracy | accuracy inferred by GPS in meters |\n",
        "| bearing | GPS bearing in degree |\n",
        "| acceleration_x | accelerometer reading at x axis (m/s2) |\n",
        "| acceleration_y | accelerometer reading at y axis (m/s2) |\n",
        "| acceleration_z | accelerometer reading at z axis (m/s2) (Acceleration determines the acceleration / vibration of the device in motion. Each of the axis can be thought of as a different sensor even though they reside on the same physical chip) |\n",
        "| gyro_x | gyroscope reading in x axis (rad/s) |\n",
        "| gyro_y | gyroscope reading in y axis (rad/s) |\n",
        "| gyro_z | gyroscope reading in z axis (rad/s) (Gyroscope data determine the orientation of the device relative to earth's gravity) |\n",
        "| second | time of the record by number of seconds |\n",
        "| speed | speed measured by GPS in m/s |\n",
        "| label | tags to indicate dangerous driving trip (0: Normal trip / 1: Dangerous trip) |\n",
        "\n",
        "!! IMPORTANT NOTE: ACCURACY MEANS THE DISTANCE BETWEEN THE PHONE LOCATION AND WHERE IT IS ACTAULLY LOCATED !!"
      ],
      "metadata": {
        "id": "Kd-x57H96Odg"
      }
    },
    {
      "cell_type": "code",
      "source": [
        "# Import dataset\n",
        "df = pd.read_csv('/content/drive/MyDrive/PAI Documents/Processed Data/processed_telematic_data.csv')\n",
        "display(df)"
      ],
      "metadata": {
        "colab": {
          "base_uri": "https://localhost:8080/",
          "height": 423
        },
        "id": "X98e3CWT53vm",
        "outputId": "f0aedfac-b224-4eb3-c616-a9d08bd9bee3"
      },
      "execution_count": 5,
      "outputs": [
        {
          "output_type": "display_data",
          "data": {
            "text/html": [
              "\n",
              "  <div id=\"df-dbe0ec00-23a5-489a-810a-dbb40f61bdf1\">\n",
              "    <div class=\"colab-df-container\">\n",
              "      <div>\n",
              "<style scoped>\n",
              "    .dataframe tbody tr th:only-of-type {\n",
              "        vertical-align: middle;\n",
              "    }\n",
              "\n",
              "    .dataframe tbody tr th {\n",
              "        vertical-align: top;\n",
              "    }\n",
              "\n",
              "    .dataframe thead th {\n",
              "        text-align: right;\n",
              "    }\n",
              "</style>\n",
              "<table border=\"1\" class=\"dataframe\">\n",
              "  <thead>\n",
              "    <tr style=\"text-align: right;\">\n",
              "      <th></th>\n",
              "      <th>BookingID</th>\n",
              "      <th>Second</th>\n",
              "      <th>Accuracy</th>\n",
              "      <th>Bearing</th>\n",
              "      <th>Acceleration_x</th>\n",
              "      <th>Acceleration_y</th>\n",
              "      <th>Acceleration_z</th>\n",
              "      <th>Gyro_x</th>\n",
              "      <th>Gyro_y</th>\n",
              "      <th>Gyro_z</th>\n",
              "      <th>Speed</th>\n",
              "      <th>Label</th>\n",
              "    </tr>\n",
              "  </thead>\n",
              "  <tbody>\n",
              "    <tr>\n",
              "      <th>0</th>\n",
              "      <td>0</td>\n",
              "      <td>2.0</td>\n",
              "      <td>8.0</td>\n",
              "      <td>143.29830</td>\n",
              "      <td>-1.706207</td>\n",
              "      <td>-9.270792</td>\n",
              "      <td>-1.209448</td>\n",
              "      <td>-0.028965</td>\n",
              "      <td>-0.032652</td>\n",
              "      <td>0.015390</td>\n",
              "      <td>0.228454</td>\n",
              "      <td>0</td>\n",
              "    </tr>\n",
              "    <tr>\n",
              "      <th>1</th>\n",
              "      <td>0</td>\n",
              "      <td>3.0</td>\n",
              "      <td>8.0</td>\n",
              "      <td>143.29830</td>\n",
              "      <td>-1.416705</td>\n",
              "      <td>-9.548032</td>\n",
              "      <td>-1.860977</td>\n",
              "      <td>-0.022413</td>\n",
              "      <td>0.005049</td>\n",
              "      <td>-0.025753</td>\n",
              "      <td>0.228454</td>\n",
              "      <td>0</td>\n",
              "    </tr>\n",
              "    <tr>\n",
              "      <th>2</th>\n",
              "      <td>0</td>\n",
              "      <td>9.0</td>\n",
              "      <td>8.0</td>\n",
              "      <td>143.29830</td>\n",
              "      <td>-0.346924</td>\n",
              "      <td>-9.532629</td>\n",
              "      <td>-1.204663</td>\n",
              "      <td>0.014962</td>\n",
              "      <td>-0.050033</td>\n",
              "      <td>0.025118</td>\n",
              "      <td>0.228454</td>\n",
              "      <td>0</td>\n",
              "    </tr>\n",
              "    <tr>\n",
              "      <th>3</th>\n",
              "      <td>0</td>\n",
              "      <td>11.0</td>\n",
              "      <td>8.0</td>\n",
              "      <td>143.29830</td>\n",
              "      <td>-0.600986</td>\n",
              "      <td>-9.452029</td>\n",
              "      <td>-2.157507</td>\n",
              "      <td>0.004548</td>\n",
              "      <td>-0.011713</td>\n",
              "      <td>-0.004078</td>\n",
              "      <td>0.228454</td>\n",
              "      <td>0</td>\n",
              "    </tr>\n",
              "    <tr>\n",
              "      <th>4</th>\n",
              "      <td>0</td>\n",
              "      <td>12.0</td>\n",
              "      <td>8.0</td>\n",
              "      <td>143.29830</td>\n",
              "      <td>-0.597546</td>\n",
              "      <td>-9.863403</td>\n",
              "      <td>-1.672711</td>\n",
              "      <td>-0.000401</td>\n",
              "      <td>0.000315</td>\n",
              "      <td>-0.009830</td>\n",
              "      <td>0.228454</td>\n",
              "      <td>0</td>\n",
              "    </tr>\n",
              "    <tr>\n",
              "      <th>...</th>\n",
              "      <td>...</td>\n",
              "      <td>...</td>\n",
              "      <td>...</td>\n",
              "      <td>...</td>\n",
              "      <td>...</td>\n",
              "      <td>...</td>\n",
              "      <td>...</td>\n",
              "      <td>...</td>\n",
              "      <td>...</td>\n",
              "      <td>...</td>\n",
              "      <td>...</td>\n",
              "      <td>...</td>\n",
              "    </tr>\n",
              "    <tr>\n",
              "      <th>7018380</th>\n",
              "      <td>1709396983975</td>\n",
              "      <td>552.0</td>\n",
              "      <td>6.0</td>\n",
              "      <td>185.44942</td>\n",
              "      <td>-0.654221</td>\n",
              "      <td>-8.646927</td>\n",
              "      <td>-4.137964</td>\n",
              "      <td>0.017065</td>\n",
              "      <td>-0.127480</td>\n",
              "      <td>-0.079793</td>\n",
              "      <td>1.695058</td>\n",
              "      <td>1</td>\n",
              "    </tr>\n",
              "    <tr>\n",
              "      <th>7018381</th>\n",
              "      <td>1709396983975</td>\n",
              "      <td>553.0</td>\n",
              "      <td>6.0</td>\n",
              "      <td>194.25633</td>\n",
              "      <td>-0.260342</td>\n",
              "      <td>-8.792276</td>\n",
              "      <td>-4.570722</td>\n",
              "      <td>-0.018650</td>\n",
              "      <td>-0.115063</td>\n",
              "      <td>-0.046133</td>\n",
              "      <td>1.695058</td>\n",
              "      <td>1</td>\n",
              "    </tr>\n",
              "    <tr>\n",
              "      <th>7018382</th>\n",
              "      <td>1709396983975</td>\n",
              "      <td>554.0</td>\n",
              "      <td>7.0</td>\n",
              "      <td>198.52795</td>\n",
              "      <td>0.179144</td>\n",
              "      <td>-8.934634</td>\n",
              "      <td>-4.572067</td>\n",
              "      <td>-0.015760</td>\n",
              "      <td>-0.018210</td>\n",
              "      <td>-0.006609</td>\n",
              "      <td>1.035811</td>\n",
              "      <td>1</td>\n",
              "    </tr>\n",
              "    <tr>\n",
              "      <th>7018383</th>\n",
              "      <td>1709396983975</td>\n",
              "      <td>555.0</td>\n",
              "      <td>8.0</td>\n",
              "      <td>198.52795</td>\n",
              "      <td>-0.585284</td>\n",
              "      <td>-9.059647</td>\n",
              "      <td>-3.930856</td>\n",
              "      <td>-0.013872</td>\n",
              "      <td>0.009509</td>\n",
              "      <td>-0.008706</td>\n",
              "      <td>1.035811</td>\n",
              "      <td>1</td>\n",
              "    </tr>\n",
              "    <tr>\n",
              "      <th>7018384</th>\n",
              "      <td>1709396983975</td>\n",
              "      <td>556.0</td>\n",
              "      <td>8.0</td>\n",
              "      <td>198.52795</td>\n",
              "      <td>-0.314774</td>\n",
              "      <td>-9.020917</td>\n",
              "      <td>-3.986334</td>\n",
              "      <td>-0.012834</td>\n",
              "      <td>0.014850</td>\n",
              "      <td>-0.010823</td>\n",
              "      <td>1.035811</td>\n",
              "      <td>1</td>\n",
              "    </tr>\n",
              "  </tbody>\n",
              "</table>\n",
              "<p>7018385 rows × 12 columns</p>\n",
              "</div>\n",
              "      <button class=\"colab-df-convert\" onclick=\"convertToInteractive('df-dbe0ec00-23a5-489a-810a-dbb40f61bdf1')\"\n",
              "              title=\"Convert this dataframe to an interactive table.\"\n",
              "              style=\"display:none;\">\n",
              "        \n",
              "  <svg xmlns=\"http://www.w3.org/2000/svg\" height=\"24px\"viewBox=\"0 0 24 24\"\n",
              "       width=\"24px\">\n",
              "    <path d=\"M0 0h24v24H0V0z\" fill=\"none\"/>\n",
              "    <path d=\"M18.56 5.44l.94 2.06.94-2.06 2.06-.94-2.06-.94-.94-2.06-.94 2.06-2.06.94zm-11 1L8.5 8.5l.94-2.06 2.06-.94-2.06-.94L8.5 2.5l-.94 2.06-2.06.94zm10 10l.94 2.06.94-2.06 2.06-.94-2.06-.94-.94-2.06-.94 2.06-2.06.94z\"/><path d=\"M17.41 7.96l-1.37-1.37c-.4-.4-.92-.59-1.43-.59-.52 0-1.04.2-1.43.59L10.3 9.45l-7.72 7.72c-.78.78-.78 2.05 0 2.83L4 21.41c.39.39.9.59 1.41.59.51 0 1.02-.2 1.41-.59l7.78-7.78 2.81-2.81c.8-.78.8-2.07 0-2.86zM5.41 20L4 18.59l7.72-7.72 1.47 1.35L5.41 20z\"/>\n",
              "  </svg>\n",
              "      </button>\n",
              "      \n",
              "  <style>\n",
              "    .colab-df-container {\n",
              "      display:flex;\n",
              "      flex-wrap:wrap;\n",
              "      gap: 12px;\n",
              "    }\n",
              "\n",
              "    .colab-df-convert {\n",
              "      background-color: #E8F0FE;\n",
              "      border: none;\n",
              "      border-radius: 50%;\n",
              "      cursor: pointer;\n",
              "      display: none;\n",
              "      fill: #1967D2;\n",
              "      height: 32px;\n",
              "      padding: 0 0 0 0;\n",
              "      width: 32px;\n",
              "    }\n",
              "\n",
              "    .colab-df-convert:hover {\n",
              "      background-color: #E2EBFA;\n",
              "      box-shadow: 0px 1px 2px rgba(60, 64, 67, 0.3), 0px 1px 3px 1px rgba(60, 64, 67, 0.15);\n",
              "      fill: #174EA6;\n",
              "    }\n",
              "\n",
              "    [theme=dark] .colab-df-convert {\n",
              "      background-color: #3B4455;\n",
              "      fill: #D2E3FC;\n",
              "    }\n",
              "\n",
              "    [theme=dark] .colab-df-convert:hover {\n",
              "      background-color: #434B5C;\n",
              "      box-shadow: 0px 1px 3px 1px rgba(0, 0, 0, 0.15);\n",
              "      filter: drop-shadow(0px 1px 2px rgba(0, 0, 0, 0.3));\n",
              "      fill: #FFFFFF;\n",
              "    }\n",
              "  </style>\n",
              "\n",
              "      <script>\n",
              "        const buttonEl =\n",
              "          document.querySelector('#df-dbe0ec00-23a5-489a-810a-dbb40f61bdf1 button.colab-df-convert');\n",
              "        buttonEl.style.display =\n",
              "          google.colab.kernel.accessAllowed ? 'block' : 'none';\n",
              "\n",
              "        async function convertToInteractive(key) {\n",
              "          const element = document.querySelector('#df-dbe0ec00-23a5-489a-810a-dbb40f61bdf1');\n",
              "          const dataTable =\n",
              "            await google.colab.kernel.invokeFunction('convertToInteractive',\n",
              "                                                     [key], {});\n",
              "          if (!dataTable) return;\n",
              "\n",
              "          const docLinkHtml = 'Like what you see? Visit the ' +\n",
              "            '<a target=\"_blank\" href=https://colab.research.google.com/notebooks/data_table.ipynb>data table notebook</a>'\n",
              "            + ' to learn more about interactive tables.';\n",
              "          element.innerHTML = '';\n",
              "          dataTable['output_type'] = 'display_data';\n",
              "          await google.colab.output.renderOutput(dataTable, element);\n",
              "          const docLink = document.createElement('div');\n",
              "          docLink.innerHTML = docLinkHtml;\n",
              "          element.appendChild(docLink);\n",
              "        }\n",
              "      </script>\n",
              "    </div>\n",
              "  </div>\n",
              "  "
            ],
            "text/plain": [
              "             BookingID  Second  Accuracy  ...    Gyro_z     Speed  Label\n",
              "0                    0     2.0       8.0  ...  0.015390  0.228454      0\n",
              "1                    0     3.0       8.0  ... -0.025753  0.228454      0\n",
              "2                    0     9.0       8.0  ...  0.025118  0.228454      0\n",
              "3                    0    11.0       8.0  ... -0.004078  0.228454      0\n",
              "4                    0    12.0       8.0  ... -0.009830  0.228454      0\n",
              "...                ...     ...       ...  ...       ...       ...    ...\n",
              "7018380  1709396983975   552.0       6.0  ... -0.079793  1.695058      1\n",
              "7018381  1709396983975   553.0       6.0  ... -0.046133  1.695058      1\n",
              "7018382  1709396983975   554.0       7.0  ... -0.006609  1.035811      1\n",
              "7018383  1709396983975   555.0       8.0  ... -0.008706  1.035811      1\n",
              "7018384  1709396983975   556.0       8.0  ... -0.010823  1.035811      1\n",
              "\n",
              "[7018385 rows x 12 columns]"
            ]
          },
          "metadata": {}
        }
      ]
    },
    {
      "cell_type": "code",
      "source": [
        "# aggregate by bookingid\n",
        "df_agg = pd.DataFrame()\n",
        "for col in df.columns:\n",
        "    if col != \"BookingID\" and col != \"Label\":\n",
        "        temp = df.groupby(\"BookingID\")[col].agg([\"mean\", \"max\", \"min\"])\n",
        "        df_agg[col + \"_mean\"] = temp[\"mean\"]\n",
        "        df_agg[col + \"_max\"] = temp[\"max\"]\n",
        "        df_agg[col + \"_min\"] = temp[\"min\"]\n",
        "    elif col == \"Label\":\n",
        "        temp = df.groupby(\"BookingID\")[col].agg([\"max\"])\n",
        "        df_agg[col] = temp['max']\n",
        "\n",
        "# display dataframe\n",
        "df_agg.reset_index(inplace=True)\n",
        "display(df_agg)\n",
        "\n",
        "# display dataframe shape\n",
        "print(\"Before Aggregation: {}\".format(df.shape))\n",
        "print(\"After Aggregation: {}\".format(df_agg.shape))\n",
        "print(\"Rows Pct Change: {:.2%}\".format((df.shape[0] - df_agg.shape[0])/df.shape[0]))"
      ],
      "metadata": {
        "colab": {
          "base_uri": "https://localhost:8080/",
          "height": 543
        },
        "id": "oFHat4TC65_O",
        "outputId": "3a93ec8c-5974-4ae4-a16a-b2628153eb09"
      },
      "execution_count": 6,
      "outputs": [
        {
          "output_type": "display_data",
          "data": {
            "text/html": [
              "\n",
              "  <div id=\"df-3452b357-5a8f-4c81-a6cc-42554cc07743\">\n",
              "    <div class=\"colab-df-container\">\n",
              "      <div>\n",
              "<style scoped>\n",
              "    .dataframe tbody tr th:only-of-type {\n",
              "        vertical-align: middle;\n",
              "    }\n",
              "\n",
              "    .dataframe tbody tr th {\n",
              "        vertical-align: top;\n",
              "    }\n",
              "\n",
              "    .dataframe thead th {\n",
              "        text-align: right;\n",
              "    }\n",
              "</style>\n",
              "<table border=\"1\" class=\"dataframe\">\n",
              "  <thead>\n",
              "    <tr style=\"text-align: right;\">\n",
              "      <th></th>\n",
              "      <th>BookingID</th>\n",
              "      <th>Second_mean</th>\n",
              "      <th>Second_max</th>\n",
              "      <th>Second_min</th>\n",
              "      <th>Accuracy_mean</th>\n",
              "      <th>Accuracy_max</th>\n",
              "      <th>Accuracy_min</th>\n",
              "      <th>Bearing_mean</th>\n",
              "      <th>Bearing_max</th>\n",
              "      <th>Bearing_min</th>\n",
              "      <th>Acceleration_x_mean</th>\n",
              "      <th>Acceleration_x_max</th>\n",
              "      <th>Acceleration_x_min</th>\n",
              "      <th>Acceleration_y_mean</th>\n",
              "      <th>Acceleration_y_max</th>\n",
              "      <th>Acceleration_y_min</th>\n",
              "      <th>Acceleration_z_mean</th>\n",
              "      <th>Acceleration_z_max</th>\n",
              "      <th>Acceleration_z_min</th>\n",
              "      <th>Gyro_x_mean</th>\n",
              "      <th>Gyro_x_max</th>\n",
              "      <th>Gyro_x_min</th>\n",
              "      <th>Gyro_y_mean</th>\n",
              "      <th>Gyro_y_max</th>\n",
              "      <th>Gyro_y_min</th>\n",
              "      <th>Gyro_z_mean</th>\n",
              "      <th>Gyro_z_max</th>\n",
              "      <th>Gyro_z_min</th>\n",
              "      <th>Speed_mean</th>\n",
              "      <th>Speed_max</th>\n",
              "      <th>Speed_min</th>\n",
              "      <th>Label</th>\n",
              "    </tr>\n",
              "  </thead>\n",
              "  <tbody>\n",
              "    <tr>\n",
              "      <th>0</th>\n",
              "      <td>0</td>\n",
              "      <td>928.337054</td>\n",
              "      <td>1589.0</td>\n",
              "      <td>2.0</td>\n",
              "      <td>9.787946</td>\n",
              "      <td>16.000</td>\n",
              "      <td>4.000</td>\n",
              "      <td>176.962977</td>\n",
              "      <td>359.97977</td>\n",
              "      <td>0.037464</td>\n",
              "      <td>-0.706297</td>\n",
              "      <td>4.782614</td>\n",
              "      <td>-4.692294</td>\n",
              "      <td>-9.606546</td>\n",
              "      <td>-6.119916</td>\n",
              "      <td>-12.190784</td>\n",
              "      <td>-1.534789</td>\n",
              "      <td>2.318857</td>\n",
              "      <td>-6.251807</td>\n",
              "      <td>0.002182</td>\n",
              "      <td>0.197898</td>\n",
              "      <td>-0.392537</td>\n",
              "      <td>-0.003596</td>\n",
              "      <td>0.428893</td>\n",
              "      <td>-0.516878</td>\n",
              "      <td>-0.001543</td>\n",
              "      <td>0.338149</td>\n",
              "      <td>-0.210122</td>\n",
              "      <td>9.127778</td>\n",
              "      <td>22.882523</td>\n",
              "      <td>0.064309</td>\n",
              "      <td>0</td>\n",
              "    </tr>\n",
              "    <tr>\n",
              "      <th>1</th>\n",
              "      <td>1</td>\n",
              "      <td>575.399485</td>\n",
              "      <td>1034.0</td>\n",
              "      <td>0.0</td>\n",
              "      <td>3.703376</td>\n",
              "      <td>6.000</td>\n",
              "      <td>3.000</td>\n",
              "      <td>127.372423</td>\n",
              "      <td>337.00000</td>\n",
              "      <td>25.000000</td>\n",
              "      <td>-0.503200</td>\n",
              "      <td>3.387767</td>\n",
              "      <td>-5.352994</td>\n",
              "      <td>9.533105</td>\n",
              "      <td>11.435962</td>\n",
              "      <td>6.623425</td>\n",
              "      <td>-2.202569</td>\n",
              "      <td>1.009146</td>\n",
              "      <td>-5.145321</td>\n",
              "      <td>-0.001151</td>\n",
              "      <td>0.126536</td>\n",
              "      <td>-0.100130</td>\n",
              "      <td>-0.004788</td>\n",
              "      <td>0.470837</td>\n",
              "      <td>-0.600795</td>\n",
              "      <td>0.002577</td>\n",
              "      <td>0.136467</td>\n",
              "      <td>-0.119799</td>\n",
              "      <td>7.729992</td>\n",
              "      <td>21.882141</td>\n",
              "      <td>0.000000</td>\n",
              "      <td>1</td>\n",
              "    </tr>\n",
              "    <tr>\n",
              "      <th>2</th>\n",
              "      <td>2</td>\n",
              "      <td>320.777778</td>\n",
              "      <td>822.0</td>\n",
              "      <td>10.0</td>\n",
              "      <td>3.821759</td>\n",
              "      <td>8.000</td>\n",
              "      <td>3.000</td>\n",
              "      <td>179.475309</td>\n",
              "      <td>330.00000</td>\n",
              "      <td>11.000000</td>\n",
              "      <td>0.287461</td>\n",
              "      <td>1.956122</td>\n",
              "      <td>-1.565856</td>\n",
              "      <td>9.735713</td>\n",
              "      <td>10.901134</td>\n",
              "      <td>8.248277</td>\n",
              "      <td>0.069421</td>\n",
              "      <td>1.755003</td>\n",
              "      <td>-2.825244</td>\n",
              "      <td>-0.001514</td>\n",
              "      <td>0.282162</td>\n",
              "      <td>-0.155218</td>\n",
              "      <td>-0.013358</td>\n",
              "      <td>0.344953</td>\n",
              "      <td>-0.418629</td>\n",
              "      <td>0.004042</td>\n",
              "      <td>0.112942</td>\n",
              "      <td>-0.081313</td>\n",
              "      <td>2.851901</td>\n",
              "      <td>9.257438</td>\n",
              "      <td>0.000000</td>\n",
              "      <td>1</td>\n",
              "    </tr>\n",
              "    <tr>\n",
              "      <th>3</th>\n",
              "      <td>4</td>\n",
              "      <td>541.207039</td>\n",
              "      <td>1092.0</td>\n",
              "      <td>1.0</td>\n",
              "      <td>10.000000</td>\n",
              "      <td>10.000</td>\n",
              "      <td>10.000</td>\n",
              "      <td>150.385762</td>\n",
              "      <td>351.40985</td>\n",
              "      <td>2.271227</td>\n",
              "      <td>-0.380176</td>\n",
              "      <td>2.019635</td>\n",
              "      <td>-2.866458</td>\n",
              "      <td>-9.371676</td>\n",
              "      <td>-7.135416</td>\n",
              "      <td>-12.916333</td>\n",
              "      <td>-2.654539</td>\n",
              "      <td>0.296381</td>\n",
              "      <td>-5.029947</td>\n",
              "      <td>-0.023892</td>\n",
              "      <td>0.148668</td>\n",
              "      <td>-0.230107</td>\n",
              "      <td>0.023619</td>\n",
              "      <td>0.652628</td>\n",
              "      <td>-0.389871</td>\n",
              "      <td>0.002339</td>\n",
              "      <td>0.505220</td>\n",
              "      <td>-0.209906</td>\n",
              "      <td>6.048292</td>\n",
              "      <td>19.560000</td>\n",
              "      <td>0.000000</td>\n",
              "      <td>1</td>\n",
              "    </tr>\n",
              "    <tr>\n",
              "      <th>4</th>\n",
              "      <td>6</td>\n",
              "      <td>540.685437</td>\n",
              "      <td>1092.0</td>\n",
              "      <td>1.0</td>\n",
              "      <td>4.631772</td>\n",
              "      <td>12.000</td>\n",
              "      <td>3.000</td>\n",
              "      <td>195.625243</td>\n",
              "      <td>346.00000</td>\n",
              "      <td>0.000000</td>\n",
              "      <td>0.565690</td>\n",
              "      <td>5.008823</td>\n",
              "      <td>-2.013585</td>\n",
              "      <td>9.504979</td>\n",
              "      <td>13.249917</td>\n",
              "      <td>0.594051</td>\n",
              "      <td>2.314074</td>\n",
              "      <td>6.263423</td>\n",
              "      <td>-1.438959</td>\n",
              "      <td>0.006719</td>\n",
              "      <td>0.362202</td>\n",
              "      <td>-0.200405</td>\n",
              "      <td>-0.009303</td>\n",
              "      <td>0.434384</td>\n",
              "      <td>-0.621802</td>\n",
              "      <td>0.001852</td>\n",
              "      <td>0.258855</td>\n",
              "      <td>-0.336128</td>\n",
              "      <td>4.714045</td>\n",
              "      <td>16.394695</td>\n",
              "      <td>0.000000</td>\n",
              "      <td>0</td>\n",
              "    </tr>\n",
              "    <tr>\n",
              "      <th>...</th>\n",
              "      <td>...</td>\n",
              "      <td>...</td>\n",
              "      <td>...</td>\n",
              "      <td>...</td>\n",
              "      <td>...</td>\n",
              "      <td>...</td>\n",
              "      <td>...</td>\n",
              "      <td>...</td>\n",
              "      <td>...</td>\n",
              "      <td>...</td>\n",
              "      <td>...</td>\n",
              "      <td>...</td>\n",
              "      <td>...</td>\n",
              "      <td>...</td>\n",
              "      <td>...</td>\n",
              "      <td>...</td>\n",
              "      <td>...</td>\n",
              "      <td>...</td>\n",
              "      <td>...</td>\n",
              "      <td>...</td>\n",
              "      <td>...</td>\n",
              "      <td>...</td>\n",
              "      <td>...</td>\n",
              "      <td>...</td>\n",
              "      <td>...</td>\n",
              "      <td>...</td>\n",
              "      <td>...</td>\n",
              "      <td>...</td>\n",
              "      <td>...</td>\n",
              "      <td>...</td>\n",
              "      <td>...</td>\n",
              "      <td>...</td>\n",
              "    </tr>\n",
              "    <tr>\n",
              "      <th>19927</th>\n",
              "      <td>1709396983957</td>\n",
              "      <td>533.340090</td>\n",
              "      <td>1044.0</td>\n",
              "      <td>0.0</td>\n",
              "      <td>3.549740</td>\n",
              "      <td>14.601</td>\n",
              "      <td>3.000</td>\n",
              "      <td>174.596847</td>\n",
              "      <td>359.00000</td>\n",
              "      <td>0.000000</td>\n",
              "      <td>0.103698</td>\n",
              "      <td>11.296188</td>\n",
              "      <td>-15.993755</td>\n",
              "      <td>1.827002</td>\n",
              "      <td>39.845520</td>\n",
              "      <td>-34.944440</td>\n",
              "      <td>9.778801</td>\n",
              "      <td>42.316414</td>\n",
              "      <td>-24.088799</td>\n",
              "      <td>0.027901</td>\n",
              "      <td>2.139516</td>\n",
              "      <td>-0.866552</td>\n",
              "      <td>-0.013217</td>\n",
              "      <td>0.935871</td>\n",
              "      <td>-1.425123</td>\n",
              "      <td>-0.012467</td>\n",
              "      <td>1.884930</td>\n",
              "      <td>-2.603097</td>\n",
              "      <td>2.483309</td>\n",
              "      <td>6.275580</td>\n",
              "      <td>0.000290</td>\n",
              "      <td>1</td>\n",
              "    </tr>\n",
              "    <tr>\n",
              "      <th>19928</th>\n",
              "      <td>1709396983960</td>\n",
              "      <td>424.188623</td>\n",
              "      <td>809.0</td>\n",
              "      <td>2.0</td>\n",
              "      <td>11.808383</td>\n",
              "      <td>16.000</td>\n",
              "      <td>4.000</td>\n",
              "      <td>178.551648</td>\n",
              "      <td>350.57666</td>\n",
              "      <td>10.027151</td>\n",
              "      <td>0.560114</td>\n",
              "      <td>3.709992</td>\n",
              "      <td>-3.379367</td>\n",
              "      <td>-8.704715</td>\n",
              "      <td>-6.629535</td>\n",
              "      <td>-11.460449</td>\n",
              "      <td>-4.471745</td>\n",
              "      <td>-1.930212</td>\n",
              "      <td>-7.562341</td>\n",
              "      <td>-0.012863</td>\n",
              "      <td>0.290076</td>\n",
              "      <td>-0.641901</td>\n",
              "      <td>0.006026</td>\n",
              "      <td>0.477245</td>\n",
              "      <td>-0.376187</td>\n",
              "      <td>-0.004241</td>\n",
              "      <td>0.233631</td>\n",
              "      <td>-0.496440</td>\n",
              "      <td>7.593701</td>\n",
              "      <td>24.059150</td>\n",
              "      <td>0.000000</td>\n",
              "      <td>1</td>\n",
              "    </tr>\n",
              "    <tr>\n",
              "      <th>19929</th>\n",
              "      <td>1709396983966</td>\n",
              "      <td>584.032258</td>\n",
              "      <td>988.0</td>\n",
              "      <td>1.0</td>\n",
              "      <td>9.379500</td>\n",
              "      <td>13.936</td>\n",
              "      <td>5.953</td>\n",
              "      <td>197.983871</td>\n",
              "      <td>359.00000</td>\n",
              "      <td>0.000000</td>\n",
              "      <td>-0.201059</td>\n",
              "      <td>2.232147</td>\n",
              "      <td>-2.704697</td>\n",
              "      <td>9.062923</td>\n",
              "      <td>11.092163</td>\n",
              "      <td>7.785767</td>\n",
              "      <td>3.336205</td>\n",
              "      <td>5.963333</td>\n",
              "      <td>0.272308</td>\n",
              "      <td>0.001111</td>\n",
              "      <td>0.122772</td>\n",
              "      <td>-0.172302</td>\n",
              "      <td>-0.005624</td>\n",
              "      <td>0.392319</td>\n",
              "      <td>-0.683594</td>\n",
              "      <td>-0.001112</td>\n",
              "      <td>0.151810</td>\n",
              "      <td>-0.252991</td>\n",
              "      <td>12.739501</td>\n",
              "      <td>25.640000</td>\n",
              "      <td>0.000000</td>\n",
              "      <td>1</td>\n",
              "    </tr>\n",
              "    <tr>\n",
              "      <th>19930</th>\n",
              "      <td>1709396983971</td>\n",
              "      <td>523.682773</td>\n",
              "      <td>1076.0</td>\n",
              "      <td>1.0</td>\n",
              "      <td>4.773118</td>\n",
              "      <td>16.000</td>\n",
              "      <td>3.000</td>\n",
              "      <td>205.259454</td>\n",
              "      <td>357.00000</td>\n",
              "      <td>1.000000</td>\n",
              "      <td>0.733790</td>\n",
              "      <td>4.637710</td>\n",
              "      <td>-3.550709</td>\n",
              "      <td>8.901846</td>\n",
              "      <td>11.430268</td>\n",
              "      <td>5.542746</td>\n",
              "      <td>3.772809</td>\n",
              "      <td>9.347249</td>\n",
              "      <td>0.993624</td>\n",
              "      <td>0.001897</td>\n",
              "      <td>0.652905</td>\n",
              "      <td>-0.696496</td>\n",
              "      <td>0.001688</td>\n",
              "      <td>3.940942</td>\n",
              "      <td>-1.047383</td>\n",
              "      <td>-0.000023</td>\n",
              "      <td>0.929654</td>\n",
              "      <td>-0.521151</td>\n",
              "      <td>6.001161</td>\n",
              "      <td>19.287226</td>\n",
              "      <td>0.000000</td>\n",
              "      <td>1</td>\n",
              "    </tr>\n",
              "    <tr>\n",
              "      <th>19931</th>\n",
              "      <td>1709396983975</td>\n",
              "      <td>411.702703</td>\n",
              "      <td>556.0</td>\n",
              "      <td>101.0</td>\n",
              "      <td>8.238739</td>\n",
              "      <td>16.000</td>\n",
              "      <td>4.000</td>\n",
              "      <td>111.408693</td>\n",
              "      <td>301.36652</td>\n",
              "      <td>12.777444</td>\n",
              "      <td>-0.294480</td>\n",
              "      <td>0.935349</td>\n",
              "      <td>-1.366162</td>\n",
              "      <td>-8.989872</td>\n",
              "      <td>-7.436282</td>\n",
              "      <td>-10.668207</td>\n",
              "      <td>-4.058551</td>\n",
              "      <td>-1.492520</td>\n",
              "      <td>-7.290484</td>\n",
              "      <td>-0.005724</td>\n",
              "      <td>0.292314</td>\n",
              "      <td>-0.228701</td>\n",
              "      <td>0.020546</td>\n",
              "      <td>0.347217</td>\n",
              "      <td>-0.145791</td>\n",
              "      <td>0.003316</td>\n",
              "      <td>0.140364</td>\n",
              "      <td>-0.079793</td>\n",
              "      <td>5.207588</td>\n",
              "      <td>16.633823</td>\n",
              "      <td>0.228300</td>\n",
              "      <td>1</td>\n",
              "    </tr>\n",
              "  </tbody>\n",
              "</table>\n",
              "<p>19932 rows × 32 columns</p>\n",
              "</div>\n",
              "      <button class=\"colab-df-convert\" onclick=\"convertToInteractive('df-3452b357-5a8f-4c81-a6cc-42554cc07743')\"\n",
              "              title=\"Convert this dataframe to an interactive table.\"\n",
              "              style=\"display:none;\">\n",
              "        \n",
              "  <svg xmlns=\"http://www.w3.org/2000/svg\" height=\"24px\"viewBox=\"0 0 24 24\"\n",
              "       width=\"24px\">\n",
              "    <path d=\"M0 0h24v24H0V0z\" fill=\"none\"/>\n",
              "    <path d=\"M18.56 5.44l.94 2.06.94-2.06 2.06-.94-2.06-.94-.94-2.06-.94 2.06-2.06.94zm-11 1L8.5 8.5l.94-2.06 2.06-.94-2.06-.94L8.5 2.5l-.94 2.06-2.06.94zm10 10l.94 2.06.94-2.06 2.06-.94-2.06-.94-.94-2.06-.94 2.06-2.06.94z\"/><path d=\"M17.41 7.96l-1.37-1.37c-.4-.4-.92-.59-1.43-.59-.52 0-1.04.2-1.43.59L10.3 9.45l-7.72 7.72c-.78.78-.78 2.05 0 2.83L4 21.41c.39.39.9.59 1.41.59.51 0 1.02-.2 1.41-.59l7.78-7.78 2.81-2.81c.8-.78.8-2.07 0-2.86zM5.41 20L4 18.59l7.72-7.72 1.47 1.35L5.41 20z\"/>\n",
              "  </svg>\n",
              "      </button>\n",
              "      \n",
              "  <style>\n",
              "    .colab-df-container {\n",
              "      display:flex;\n",
              "      flex-wrap:wrap;\n",
              "      gap: 12px;\n",
              "    }\n",
              "\n",
              "    .colab-df-convert {\n",
              "      background-color: #E8F0FE;\n",
              "      border: none;\n",
              "      border-radius: 50%;\n",
              "      cursor: pointer;\n",
              "      display: none;\n",
              "      fill: #1967D2;\n",
              "      height: 32px;\n",
              "      padding: 0 0 0 0;\n",
              "      width: 32px;\n",
              "    }\n",
              "\n",
              "    .colab-df-convert:hover {\n",
              "      background-color: #E2EBFA;\n",
              "      box-shadow: 0px 1px 2px rgba(60, 64, 67, 0.3), 0px 1px 3px 1px rgba(60, 64, 67, 0.15);\n",
              "      fill: #174EA6;\n",
              "    }\n",
              "\n",
              "    [theme=dark] .colab-df-convert {\n",
              "      background-color: #3B4455;\n",
              "      fill: #D2E3FC;\n",
              "    }\n",
              "\n",
              "    [theme=dark] .colab-df-convert:hover {\n",
              "      background-color: #434B5C;\n",
              "      box-shadow: 0px 1px 3px 1px rgba(0, 0, 0, 0.15);\n",
              "      filter: drop-shadow(0px 1px 2px rgba(0, 0, 0, 0.3));\n",
              "      fill: #FFFFFF;\n",
              "    }\n",
              "  </style>\n",
              "\n",
              "      <script>\n",
              "        const buttonEl =\n",
              "          document.querySelector('#df-3452b357-5a8f-4c81-a6cc-42554cc07743 button.colab-df-convert');\n",
              "        buttonEl.style.display =\n",
              "          google.colab.kernel.accessAllowed ? 'block' : 'none';\n",
              "\n",
              "        async function convertToInteractive(key) {\n",
              "          const element = document.querySelector('#df-3452b357-5a8f-4c81-a6cc-42554cc07743');\n",
              "          const dataTable =\n",
              "            await google.colab.kernel.invokeFunction('convertToInteractive',\n",
              "                                                     [key], {});\n",
              "          if (!dataTable) return;\n",
              "\n",
              "          const docLinkHtml = 'Like what you see? Visit the ' +\n",
              "            '<a target=\"_blank\" href=https://colab.research.google.com/notebooks/data_table.ipynb>data table notebook</a>'\n",
              "            + ' to learn more about interactive tables.';\n",
              "          element.innerHTML = '';\n",
              "          dataTable['output_type'] = 'display_data';\n",
              "          await google.colab.output.renderOutput(dataTable, element);\n",
              "          const docLink = document.createElement('div');\n",
              "          docLink.innerHTML = docLinkHtml;\n",
              "          element.appendChild(docLink);\n",
              "        }\n",
              "      </script>\n",
              "    </div>\n",
              "  </div>\n",
              "  "
            ],
            "text/plain": [
              "           BookingID  Second_mean  Second_max  ...  Speed_max  Speed_min  Label\n",
              "0                  0   928.337054      1589.0  ...  22.882523   0.064309      0\n",
              "1                  1   575.399485      1034.0  ...  21.882141   0.000000      1\n",
              "2                  2   320.777778       822.0  ...   9.257438   0.000000      1\n",
              "3                  4   541.207039      1092.0  ...  19.560000   0.000000      1\n",
              "4                  6   540.685437      1092.0  ...  16.394695   0.000000      0\n",
              "...              ...          ...         ...  ...        ...        ...    ...\n",
              "19927  1709396983957   533.340090      1044.0  ...   6.275580   0.000290      1\n",
              "19928  1709396983960   424.188623       809.0  ...  24.059150   0.000000      1\n",
              "19929  1709396983966   584.032258       988.0  ...  25.640000   0.000000      1\n",
              "19930  1709396983971   523.682773      1076.0  ...  19.287226   0.000000      1\n",
              "19931  1709396983975   411.702703       556.0  ...  16.633823   0.228300      1\n",
              "\n",
              "[19932 rows x 32 columns]"
            ]
          },
          "metadata": {}
        },
        {
          "output_type": "stream",
          "name": "stdout",
          "text": [
            "Before Aggregation: (7018385, 12)\n",
            "After Aggregation: (19932, 32)\n",
            "Rows Pct Change: 99.72%\n"
          ]
        }
      ]
    },
    {
      "cell_type": "code",
      "source": [
        "# Define Features and Labels\n",
        "X = df_agg.set_index('BookingID').drop('Label', axis=1)\n",
        "y = df_agg.set_index('BookingID').loc[:, 'Label']\n",
        "\n",
        "print(\"X shape: {}\\ny shape: {}\".format(X.shape, y.shape))"
      ],
      "metadata": {
        "colab": {
          "base_uri": "https://localhost:8080/"
        },
        "id": "iP5OC9Aa670R",
        "outputId": "6cdf3ae6-d47b-4df0-d420-dff7efc939a1"
      },
      "execution_count": 7,
      "outputs": [
        {
          "output_type": "stream",
          "name": "stdout",
          "text": [
            "X shape: (19932, 30)\n",
            "y shape: (19932,)\n"
          ]
        }
      ]
    },
    {
      "cell_type": "code",
      "source": [
        "# Split Training and Testing Ratio - 4:1\n",
        "X_train, X_test, y_train, y_test = train_test_split(X, y, test_size=0.2, random_state=42)\n",
        "print(\"X_train: {}\\ty_train: {}\\nX_test: {}\\ty_test: {}\".format(X_train.shape, y_train.shape, X_test.shape, y_test.shape))"
      ],
      "metadata": {
        "colab": {
          "base_uri": "https://localhost:8080/"
        },
        "id": "6I57zVme7AvA",
        "outputId": "e993590d-5bb7-41f2-b342-df28388f9e55"
      },
      "execution_count": 8,
      "outputs": [
        {
          "output_type": "stream",
          "name": "stdout",
          "text": [
            "X_train: (15945, 30)\ty_train: (15945,)\n",
            "X_test: (3987, 30)\ty_test: (3987,)\n"
          ]
        }
      ]
    },
    {
      "cell_type": "markdown",
      "source": [
        "# Pipeline Development"
      ],
      "metadata": {
        "id": "ML3TDQV56nRS"
      }
    },
    {
      "cell_type": "code",
      "source": [
        "# pipeline and preprocessing modules\n",
        "from imblearn.pipeline import Pipeline\n",
        "from sklearn.neighbors import LocalOutlierFactor\n",
        "from imblearn.over_sampling import SMOTE\n",
        "from sklearn.preprocessing import StandardScaler\n",
        "from sklearn.linear_model import LogisticRegression"
      ],
      "metadata": {
        "id": "KQRBV2bq_ksW"
      },
      "execution_count": 9,
      "outputs": []
    },
    {
      "cell_type": "markdown",
      "source": [
        "## Local Outlier Factor"
      ],
      "metadata": {
        "id": "QAhfKiTjFTha"
      }
    },
    {
      "cell_type": "code",
      "source": [
        "# Identify outliers via LocalOutlierFactor\n",
        "iso = LocalOutlierFactor(contamination=0.05)\n",
        "X_out = iso.fit_predict(X_train)\n",
        "# select all rows that are not outliers\n",
        "mask = (X_out != -1)\n",
        "\n",
        "# Store removed outliers in a new variable\n",
        "X_train_out, y_train_out = X_train[mask], y_train[mask]\n",
        "\n",
        "# summarize the shape of the updated training dataset\n",
        "print('Shape of the training dataset after removing outliers', X_train_out.shape, y_train_out.shape)"
      ],
      "metadata": {
        "colab": {
          "base_uri": "https://localhost:8080/"
        },
        "id": "xNj-WiR5CMDY",
        "outputId": "4798fc69-5b53-421c-ea5b-2215d241df65"
      },
      "execution_count": 10,
      "outputs": [
        {
          "output_type": "stream",
          "name": "stdout",
          "text": [
            "Shape of the training dataset after removing outliers (15147, 30) (15147,)\n"
          ]
        }
      ]
    },
    {
      "cell_type": "markdown",
      "source": [
        "## SMOTE"
      ],
      "metadata": {
        "id": "oD6M6yYxFWGK"
      }
    },
    {
      "cell_type": "code",
      "source": [
        "# instantiate smote class and resample\n",
        "smote = SMOTE(sampling_strategy='auto', random_state=42, k_neighbors=5, n_jobs=-1)\n",
        "X_train_smote, y_train_smote = smote.fit_resample(X_train_out, y_train_out)\n",
        "\n",
        "print(\"Before Resampling: {} {}\".format(X_train_out.shape, y_train_out.shape))\n",
        "print(\"After Resampling: {} {}\".format(X_train_smote.shape, y_train_smote.shape))"
      ],
      "metadata": {
        "colab": {
          "base_uri": "https://localhost:8080/"
        },
        "id": "CUEMG-bsCVZ5",
        "outputId": "313deb9d-e422-4c52-ab58-3fdb8070ac80"
      },
      "execution_count": 11,
      "outputs": [
        {
          "output_type": "stream",
          "name": "stdout",
          "text": [
            "Before Resampling: (15147, 30) (15147,)\n",
            "After Resampling: (22904, 30) (22904,)\n"
          ]
        }
      ]
    },
    {
      "cell_type": "markdown",
      "source": [
        "## Z-Score Standardization"
      ],
      "metadata": {
        "id": "aIcn_fcdFYpf"
      }
    },
    {
      "cell_type": "code",
      "source": [
        "# instantiate standard scaler class\n",
        "scaler = StandardScaler()\n",
        "X_train_scale = scaler.fit_transform(X_train_smote, y_train_smote)\n",
        "X_train_scale = pd.DataFrame(X_train_scale, columns=X_train_smote.columns)"
      ],
      "metadata": {
        "id": "IXl7deQOCe21"
      },
      "execution_count": 12,
      "outputs": []
    },
    {
      "cell_type": "markdown",
      "source": [
        "## Create Pipeline Function"
      ],
      "metadata": {
        "id": "Kr4YswG0FagP"
      }
    },
    {
      "cell_type": "code",
      "source": [
        "# function to build a machine learning pipeline\n",
        "def create_pipeline(model):\n",
        "    # model: expects an estimator object, being able to .fit() and .predict()\n",
        "    # returns a pipeline instance\n",
        "    ml_pipeline = Pipeline(\n",
        "        steps=[\n",
        "            (\"SMOTE\", smote),\n",
        "            (\"Z-Score Standardization\", scaler),\n",
        "            (model.__repr__(), model)\n",
        "        ]\n",
        "    )\n",
        "    return ml_pipeline\n",
        "\n",
        "# attempting to recreate ml baseline\n",
        "ml_baseline = create_pipeline(LogisticRegression(max_iter=1000))\n",
        "print(ml_baseline)"
      ],
      "metadata": {
        "colab": {
          "base_uri": "https://localhost:8080/"
        },
        "id": "3paIkyIL6RJZ",
        "outputId": "5838ad88-84fe-4e03-cbc4-87237f8d2f32"
      },
      "execution_count": 13,
      "outputs": [
        {
          "output_type": "stream",
          "name": "stdout",
          "text": [
            "Pipeline(steps=[('SMOTE', SMOTE(n_jobs=-1, random_state=42)),\n",
            "                ('Z-Score Standardization', StandardScaler()),\n",
            "                ('LogisticRegression(max_iter=1000)',\n",
            "                 LogisticRegression(max_iter=1000))])\n"
          ]
        }
      ]
    },
    {
      "cell_type": "markdown",
      "source": [
        "# Model Selection"
      ],
      "metadata": {
        "id": "IYJD5_hVEtVW"
      }
    },
    {
      "cell_type": "code",
      "source": [
        "# scikit-learn machine learning models\n",
        "from sklearn.linear_model import LogisticRegression\n",
        "from sklearn.naive_bayes import GaussianNB\n",
        "from sklearn.neighbors import KNeighborsClassifier\n",
        "from sklearn.svm import LinearSVC, SVC\n",
        "from sklearn.tree import DecisionTreeClassifier\n",
        "from sklearn.ensemble import (\n",
        "    GradientBoostingClassifier, \n",
        "    RandomForestClassifier,\n",
        "    AdaBoostClassifier,\n",
        ")\n",
        "\n",
        "# third party machine learning models\n",
        "from xgboost import XGBClassifier\n",
        "from lightgbm import LGBMClassifier\n",
        "\n",
        "# model selection modules\n",
        "from sklearn.model_selection import cross_validate"
      ],
      "metadata": {
        "id": "q7coDh8TDYxg"
      },
      "execution_count": 14,
      "outputs": []
    },
    {
      "cell_type": "code",
      "source": [
        "# prepare ray parallel backend\n",
        "import joblib\n",
        "!pip install -q ray\n",
        "from ray.util.joblib import register_ray\n",
        "import ray\n",
        "ray.init(ignore_reinit_error=True)\n",
        "register_ray()"
      ],
      "metadata": {
        "id": "r9SKZ1l9LgaE"
      },
      "execution_count": 15,
      "outputs": []
    },
    {
      "cell_type": "code",
      "source": [
        "models = [\n",
        "    LogisticRegression(n_jobs=-1),\n",
        "    GaussianNB(),\n",
        "    KNeighborsClassifier(),\n",
        "    SVC(),\n",
        "    DecisionTreeClassifier(),\n",
        "    RandomForestClassifier(n_jobs=-1),\n",
        "    XGBClassifier(n_jobs=-1),\n",
        "    LGBMClassifier(n_jobs=-1)\n",
        "]"
      ],
      "metadata": {
        "id": "Pw2hL05KTywH"
      },
      "execution_count": 16,
      "outputs": []
    },
    {
      "cell_type": "code",
      "source": [
        "# # setting model at default hyperparameters into a list\n",
        "# models = [\n",
        "#     LogisticRegression(n_jobs=-1),\n",
        "#     KNeighborsClassifier(),\n",
        "#     LinearSVC(),\n",
        "#     SVC(),\n",
        "#     DecisionTreeClassifier(),\n",
        "#     GradientBoostingClassifier(),\n",
        "#     RandomForestClassifier(n_jobs=-1),\n",
        "#     AdaBoostClassifier(),\n",
        "# ]\n"
      ],
      "metadata": {
        "id": "XJYux5okIFBt"
      },
      "execution_count": 17,
      "outputs": []
    },
    {
      "cell_type": "code",
      "source": [
        "%%time\n",
        "models_cv_score = {}\n",
        "\n",
        "# model training using ray backend\n",
        "with joblib.parallel_backend('ray'):\n",
        "    for model in models:\n",
        "        print(model.__repr__())\n",
        "        pipeline_obj = create_pipeline(model)\n",
        "        cv_score = cross_validate(\n",
        "            pipeline_obj, \n",
        "            X_train_out, \n",
        "            y_train_out, \n",
        "            return_train_score=True,\n",
        "            cv=10,\n",
        "            n_jobs=-1, \n",
        "            scoring=['accuracy', 'f1', 'precision', 'recall', 'roc_auc'],\n",
        "            verbose=1\n",
        "        )\n",
        "        cv_score_mean = {\"mean_{}\".format(k) : np.mean(v) for k, v in cv_score.items()}\n",
        "\n",
        "        models_cv_score[model.__repr__()] = cv_score_mean"
      ],
      "metadata": {
        "colab": {
          "base_uri": "https://localhost:8080/"
        },
        "id": "1aK9zqvQImj9",
        "outputId": "d804ba5f-f099-4a34-a6c1-a788e9192979"
      },
      "execution_count": 18,
      "outputs": [
        {
          "output_type": "stream",
          "name": "stderr",
          "text": [
            "2022-02-06 09:21:12,056\tWARNING pool.py:494 -- The 'context' argument is not supported using ray. Please refer to the documentation for how to control ray initialization.\n"
          ]
        },
        {
          "output_type": "stream",
          "name": "stdout",
          "text": [
            "LogisticRegression(n_jobs=-1)\n"
          ]
        },
        {
          "output_type": "stream",
          "name": "stderr",
          "text": [
            "[Parallel(n_jobs=-1)]: Using backend RayBackend with 4 concurrent workers.\n",
            "[Parallel(n_jobs=-1)]: Done  10 out of  10 | elapsed:    4.1s finished\n"
          ]
        },
        {
          "output_type": "stream",
          "name": "stdout",
          "text": [
            "GaussianNB()\n"
          ]
        },
        {
          "output_type": "stream",
          "name": "stderr",
          "text": [
            "[Parallel(n_jobs=-1)]: Using backend RayBackend with 4 concurrent workers.\n",
            "[Parallel(n_jobs=-1)]: Done  10 out of  10 | elapsed:    4.9s finished\n"
          ]
        },
        {
          "output_type": "stream",
          "name": "stdout",
          "text": [
            "KNeighborsClassifier()\n"
          ]
        },
        {
          "output_type": "stream",
          "name": "stderr",
          "text": [
            "[Parallel(n_jobs=-1)]: Using backend RayBackend with 4 concurrent workers.\n",
            "[Parallel(n_jobs=-1)]: Done  10 out of  10 | elapsed:  1.5min finished\n"
          ]
        },
        {
          "output_type": "stream",
          "name": "stdout",
          "text": [
            "SVC()\n"
          ]
        },
        {
          "output_type": "stream",
          "name": "stderr",
          "text": [
            "[Parallel(n_jobs=-1)]: Using backend RayBackend with 4 concurrent workers.\n",
            "[Parallel(n_jobs=-1)]: Done  10 out of  10 | elapsed:  7.5min finished\n"
          ]
        },
        {
          "output_type": "stream",
          "name": "stdout",
          "text": [
            "DecisionTreeClassifier()\n"
          ]
        },
        {
          "output_type": "stream",
          "name": "stderr",
          "text": [
            "[Parallel(n_jobs=-1)]: Using backend RayBackend with 4 concurrent workers.\n",
            "[Parallel(n_jobs=-1)]: Done  10 out of  10 | elapsed:    7.4s finished\n"
          ]
        },
        {
          "output_type": "stream",
          "name": "stdout",
          "text": [
            "RandomForestClassifier(n_jobs=-1)\n"
          ]
        },
        {
          "output_type": "stream",
          "name": "stderr",
          "text": [
            "[Parallel(n_jobs=-1)]: Using backend RayBackend with 4 concurrent workers.\n",
            "[Parallel(n_jobs=-1)]: Done  10 out of  10 | elapsed:   45.8s finished\n"
          ]
        },
        {
          "output_type": "stream",
          "name": "stdout",
          "text": [
            "XGBClassifier(n_jobs=-1)\n"
          ]
        },
        {
          "output_type": "stream",
          "name": "stderr",
          "text": [
            "[Parallel(n_jobs=-1)]: Using backend RayBackend with 4 concurrent workers.\n",
            "[Parallel(n_jobs=-1)]: Done  10 out of  10 | elapsed:   28.4s finished\n"
          ]
        },
        {
          "output_type": "stream",
          "name": "stdout",
          "text": [
            "LGBMClassifier()\n"
          ]
        },
        {
          "output_type": "stream",
          "name": "stderr",
          "text": [
            "[Parallel(n_jobs=-1)]: Using backend RayBackend with 4 concurrent workers.\n"
          ]
        },
        {
          "output_type": "stream",
          "name": "stdout",
          "text": [
            "CPU times: user 24.6 s, sys: 4.29 s, total: 28.9 s\n",
            "Wall time: 11min 4s\n"
          ]
        },
        {
          "output_type": "stream",
          "name": "stderr",
          "text": [
            "[Parallel(n_jobs=-1)]: Done  10 out of  10 | elapsed:   11.6s finished\n"
          ]
        }
      ]
    },
    {
      "cell_type": "markdown",
      "source": [
        "![](https://www.researchgate.net/profile/Sebastian-Bittrich/publication/330174519/figure/fig1/AS:711883078258689@1546737560677/Confusion-matrix-Exemplified-CM-with-the-formulas-of-precision-PR-recall-RE.png)"
      ],
      "metadata": {
        "id": "mzGAoj60Zg9i"
      }
    },
    {
      "cell_type": "code",
      "source": [
        "models_cv_df = pd.DataFrame(models_cv_score).T\n",
        "models_cv_df_style = models_cv_df.style.apply(lambda x: ['background-color: yellow; color: black' if v else '' for v in x == x.max()]).apply(lambda x: ['background-color: orange; color: black' if v else '' for v in x == x.min()])\n",
        "display(models_cv_df_style)"
      ],
      "metadata": {
        "colab": {
          "base_uri": "https://localhost:8080/",
          "height": 320
        },
        "id": "y_edPezBPQKy",
        "outputId": "ef2d30ce-6c79-46ae-bbbb-f158c041781f"
      },
      "execution_count": 23,
      "outputs": [
        {
          "output_type": "display_data",
          "data": {
            "text/html": [
              "<style type=\"text/css\">\n",
              "#T_dee4d_row0_col0, #T_dee4d_row0_col3, #T_dee4d_row0_col7, #T_dee4d_row1_col5, #T_dee4d_row1_col11, #T_dee4d_row2_col2, #T_dee4d_row2_col6, #T_dee4d_row4_col1, #T_dee4d_row4_col4, #T_dee4d_row4_col10, #T_dee4d_row6_col9, #T_dee4d_row7_col8 {\n",
              "  background-color: orange;\n",
              "  color: black;\n",
              "}\n",
              "#T_dee4d_row0_col4, #T_dee4d_row0_col8, #T_dee4d_row0_col10, #T_dee4d_row3_col0, #T_dee4d_row3_col1, #T_dee4d_row4_col3, #T_dee4d_row4_col5, #T_dee4d_row4_col7, #T_dee4d_row4_col9, #T_dee4d_row4_col11, #T_dee4d_row5_col3, #T_dee4d_row5_col5, #T_dee4d_row5_col7, #T_dee4d_row5_col9, #T_dee4d_row5_col11, #T_dee4d_row7_col2, #T_dee4d_row7_col6 {\n",
              "  background-color: yellow;\n",
              "  color: black;\n",
              "}\n",
              "</style>\n",
              "<table id=\"T_dee4d_\" class=\"dataframe\">\n",
              "  <thead>\n",
              "    <tr>\n",
              "      <th class=\"blank level0\" >&nbsp;</th>\n",
              "      <th class=\"col_heading level0 col0\" >mean_fit_time</th>\n",
              "      <th class=\"col_heading level0 col1\" >mean_score_time</th>\n",
              "      <th class=\"col_heading level0 col2\" >mean_test_accuracy</th>\n",
              "      <th class=\"col_heading level0 col3\" >mean_train_accuracy</th>\n",
              "      <th class=\"col_heading level0 col4\" >mean_test_f1</th>\n",
              "      <th class=\"col_heading level0 col5\" >mean_train_f1</th>\n",
              "      <th class=\"col_heading level0 col6\" >mean_test_precision</th>\n",
              "      <th class=\"col_heading level0 col7\" >mean_train_precision</th>\n",
              "      <th class=\"col_heading level0 col8\" >mean_test_recall</th>\n",
              "      <th class=\"col_heading level0 col9\" >mean_train_recall</th>\n",
              "      <th class=\"col_heading level0 col10\" >mean_test_roc_auc</th>\n",
              "      <th class=\"col_heading level0 col11\" >mean_train_roc_auc</th>\n",
              "    </tr>\n",
              "  </thead>\n",
              "  <tbody>\n",
              "    <tr>\n",
              "      <th id=\"T_dee4d_level0_row0\" class=\"row_heading level0 row0\" >LogisticRegression(n_jobs=-1)</th>\n",
              "      <td id=\"T_dee4d_row0_col0\" class=\"data row0 col0\" >0.739155</td>\n",
              "      <td id=\"T_dee4d_row0_col1\" class=\"data row0 col1\" >0.016379</td>\n",
              "      <td id=\"T_dee4d_row0_col2\" class=\"data row0 col2\" >0.649372</td>\n",
              "      <td id=\"T_dee4d_row0_col3\" class=\"data row0 col3\" >0.653353</td>\n",
              "      <td id=\"T_dee4d_row0_col4\" class=\"data row0 col4\" >0.465099</td>\n",
              "      <td id=\"T_dee4d_row0_col5\" class=\"data row0 col5\" >0.470368</td>\n",
              "      <td id=\"T_dee4d_row0_col6\" class=\"data row0 col6\" >0.370612</td>\n",
              "      <td id=\"T_dee4d_row0_col7\" class=\"data row0 col7\" >0.374926</td>\n",
              "      <td id=\"T_dee4d_row0_col8\" class=\"data row0 col8\" >0.624628</td>\n",
              "      <td id=\"T_dee4d_row0_col9\" class=\"data row0 col9\" >0.631003</td>\n",
              "      <td id=\"T_dee4d_row0_col10\" class=\"data row0 col10\" >0.707766</td>\n",
              "      <td id=\"T_dee4d_row0_col11\" class=\"data row0 col11\" >0.712220</td>\n",
              "    </tr>\n",
              "    <tr>\n",
              "      <th id=\"T_dee4d_level0_row1\" class=\"row_heading level0 row1\" >GaussianNB()</th>\n",
              "      <td id=\"T_dee4d_row1_col0\" class=\"data row1 col0\" >0.829836</td>\n",
              "      <td id=\"T_dee4d_row1_col1\" class=\"data row1 col1\" >0.027878</td>\n",
              "      <td id=\"T_dee4d_row1_col2\" class=\"data row1 col2\" >0.681661</td>\n",
              "      <td id=\"T_dee4d_row1_col3\" class=\"data row1 col3\" >0.679474</td>\n",
              "      <td id=\"T_dee4d_row1_col4\" class=\"data row1 col4\" >0.433172</td>\n",
              "      <td id=\"T_dee4d_row1_col5\" class=\"data row1 col5\" >0.429698</td>\n",
              "      <td id=\"T_dee4d_row1_col6\" class=\"data row1 col6\" >0.395317</td>\n",
              "      <td id=\"T_dee4d_row1_col7\" class=\"data row1 col7\" >0.391780</td>\n",
              "      <td id=\"T_dee4d_row1_col8\" class=\"data row1 col8\" >0.500089</td>\n",
              "      <td id=\"T_dee4d_row1_col9\" class=\"data row1 col9\" >0.497647</td>\n",
              "      <td id=\"T_dee4d_row1_col10\" class=\"data row1 col10\" >0.670550</td>\n",
              "      <td id=\"T_dee4d_row1_col11\" class=\"data row1 col11\" >0.671491</td>\n",
              "    </tr>\n",
              "    <tr>\n",
              "      <th id=\"T_dee4d_level0_row2\" class=\"row_heading level0 row2\" >KNeighborsClassifier()</th>\n",
              "      <td id=\"T_dee4d_row2_col0\" class=\"data row2 col0\" >0.751049</td>\n",
              "      <td id=\"T_dee4d_row2_col1\" class=\"data row2 col1\" >5.218845</td>\n",
              "      <td id=\"T_dee4d_row2_col2\" class=\"data row2 col2\" >0.582624</td>\n",
              "      <td id=\"T_dee4d_row2_col3\" class=\"data row2 col3\" >0.753072</td>\n",
              "      <td id=\"T_dee4d_row2_col4\" class=\"data row2 col4\" >0.408378</td>\n",
              "      <td id=\"T_dee4d_row2_col5\" class=\"data row2 col5\" >0.638189</td>\n",
              "      <td id=\"T_dee4d_row2_col6\" class=\"data row2 col6\" >0.312137</td>\n",
              "      <td id=\"T_dee4d_row2_col7\" class=\"data row2 col7\" >0.496611</td>\n",
              "      <td id=\"T_dee4d_row2_col8\" class=\"data row2 col8\" >0.590526</td>\n",
              "      <td id=\"T_dee4d_row2_col9\" class=\"data row2 col9\" >0.892708</td>\n",
              "      <td id=\"T_dee4d_row2_col10\" class=\"data row2 col10\" >0.622854</td>\n",
              "      <td id=\"T_dee4d_row2_col11\" class=\"data row2 col11\" >0.898071</td>\n",
              "    </tr>\n",
              "    <tr>\n",
              "      <th id=\"T_dee4d_level0_row3\" class=\"row_heading level0 row3\" >SVC()</th>\n",
              "      <td id=\"T_dee4d_row3_col0\" class=\"data row3 col0\" >43.699216</td>\n",
              "      <td id=\"T_dee4d_row3_col1\" class=\"data row3 col1\" >6.156550</td>\n",
              "      <td id=\"T_dee4d_row3_col2\" class=\"data row3 col2\" >0.676836</td>\n",
              "      <td id=\"T_dee4d_row3_col3\" class=\"data row3 col3\" >0.725725</td>\n",
              "      <td id=\"T_dee4d_row3_col4\" class=\"data row3 col4\" >0.434082</td>\n",
              "      <td id=\"T_dee4d_row3_col5\" class=\"data row3 col5\" >0.522247</td>\n",
              "      <td id=\"T_dee4d_row3_col6\" class=\"data row3 col6\" >0.379111</td>\n",
              "      <td id=\"T_dee4d_row3_col7\" class=\"data row3 col7\" >0.454071</td>\n",
              "      <td id=\"T_dee4d_row3_col8\" class=\"data row3 col8\" >0.508247</td>\n",
              "      <td id=\"T_dee4d_row3_col9\" class=\"data row3 col9\" >0.614524</td>\n",
              "      <td id=\"T_dee4d_row3_col10\" class=\"data row3 col10\" >0.678092</td>\n",
              "      <td id=\"T_dee4d_row3_col11\" class=\"data row3 col11\" >0.761598</td>\n",
              "    </tr>\n",
              "    <tr>\n",
              "      <th id=\"T_dee4d_level0_row4\" class=\"row_heading level0 row4\" >DecisionTreeClassifier()</th>\n",
              "      <td id=\"T_dee4d_row4_col0\" class=\"data row4 col0\" >1.615918</td>\n",
              "      <td id=\"T_dee4d_row4_col1\" class=\"data row4 col1\" >0.015562</td>\n",
              "      <td id=\"T_dee4d_row4_col2\" class=\"data row4 col2\" >0.652407</td>\n",
              "      <td id=\"T_dee4d_row4_col3\" class=\"data row4 col3\" >1.000000</td>\n",
              "      <td id=\"T_dee4d_row4_col4\" class=\"data row4 col4\" >0.360973</td>\n",
              "      <td id=\"T_dee4d_row4_col5\" class=\"data row4 col5\" >1.000000</td>\n",
              "      <td id=\"T_dee4d_row4_col6\" class=\"data row4 col6\" >0.327325</td>\n",
              "      <td id=\"T_dee4d_row4_col7\" class=\"data row4 col7\" >1.000000</td>\n",
              "      <td id=\"T_dee4d_row4_col8\" class=\"data row4 col8\" >0.402720</td>\n",
              "      <td id=\"T_dee4d_row4_col9\" class=\"data row4 col9\" >1.000000</td>\n",
              "      <td id=\"T_dee4d_row4_col10\" class=\"data row4 col10\" >0.567847</td>\n",
              "      <td id=\"T_dee4d_row4_col11\" class=\"data row4 col11\" >1.000000</td>\n",
              "    </tr>\n",
              "    <tr>\n",
              "      <th id=\"T_dee4d_level0_row5\" class=\"row_heading level0 row5\" >RandomForestClassifier(n_jobs=-1)</th>\n",
              "      <td id=\"T_dee4d_row5_col0\" class=\"data row5 col0\" >13.703251</td>\n",
              "      <td id=\"T_dee4d_row5_col1\" class=\"data row5 col1\" >0.304821</td>\n",
              "      <td id=\"T_dee4d_row5_col2\" class=\"data row5 col2\" >0.745163</td>\n",
              "      <td id=\"T_dee4d_row5_col3\" class=\"data row5 col3\" >1.000000</td>\n",
              "      <td id=\"T_dee4d_row5_col4\" class=\"data row5 col4\" >0.391103</td>\n",
              "      <td id=\"T_dee4d_row5_col5\" class=\"data row5 col5\" >1.000000</td>\n",
              "      <td id=\"T_dee4d_row5_col6\" class=\"data row5 col6\" >0.470573</td>\n",
              "      <td id=\"T_dee4d_row5_col7\" class=\"data row5 col7\" >1.000000</td>\n",
              "      <td id=\"T_dee4d_row5_col8\" class=\"data row5 col8\" >0.335594</td>\n",
              "      <td id=\"T_dee4d_row5_col9\" class=\"data row5 col9\" >1.000000</td>\n",
              "      <td id=\"T_dee4d_row5_col10\" class=\"data row5 col10\" >0.690340</td>\n",
              "      <td id=\"T_dee4d_row5_col11\" class=\"data row5 col11\" >1.000000</td>\n",
              "    </tr>\n",
              "    <tr>\n",
              "      <th id=\"T_dee4d_level0_row6\" class=\"row_heading level0 row6\" >XGBClassifier(n_jobs=-1)</th>\n",
              "      <td id=\"T_dee4d_row6_col0\" class=\"data row6 col0\" >6.975440</td>\n",
              "      <td id=\"T_dee4d_row6_col1\" class=\"data row6 col1\" >0.033663</td>\n",
              "      <td id=\"T_dee4d_row6_col2\" class=\"data row6 col2\" >0.743514</td>\n",
              "      <td id=\"T_dee4d_row6_col3\" class=\"data row6 col3\" >0.759182</td>\n",
              "      <td id=\"T_dee4d_row6_col4\" class=\"data row6 col4\" >0.402890</td>\n",
              "      <td id=\"T_dee4d_row6_col5\" class=\"data row6 col5\" >0.439589</td>\n",
              "      <td id=\"T_dee4d_row6_col6\" class=\"data row6 col6\" >0.467566</td>\n",
              "      <td id=\"T_dee4d_row6_col7\" class=\"data row6 col7\" >0.509669</td>\n",
              "      <td id=\"T_dee4d_row6_col8\" class=\"data row6 col8\" >0.355085</td>\n",
              "      <td id=\"T_dee4d_row6_col9\" class=\"data row6 col9\" >0.387279</td>\n",
              "      <td id=\"T_dee4d_row6_col10\" class=\"data row6 col10\" >0.693713</td>\n",
              "      <td id=\"T_dee4d_row6_col11\" class=\"data row6 col11\" >0.732819</td>\n",
              "    </tr>\n",
              "    <tr>\n",
              "      <th id=\"T_dee4d_level0_row7\" class=\"row_heading level0 row7\" >LGBMClassifier()</th>\n",
              "      <td id=\"T_dee4d_row7_col0\" class=\"data row7 col0\" >2.369359</td>\n",
              "      <td id=\"T_dee4d_row7_col1\" class=\"data row7 col1\" >0.043391</td>\n",
              "      <td id=\"T_dee4d_row7_col2\" class=\"data row7 col2\" >0.759095</td>\n",
              "      <td id=\"T_dee4d_row7_col3\" class=\"data row7 col3\" >0.832339</td>\n",
              "      <td id=\"T_dee4d_row7_col4\" class=\"data row7 col4\" >0.372257</td>\n",
              "      <td id=\"T_dee4d_row7_col5\" class=\"data row7 col5\" >0.565359</td>\n",
              "      <td id=\"T_dee4d_row7_col6\" class=\"data row7 col6\" >0.511131</td>\n",
              "      <td id=\"T_dee4d_row7_col7\" class=\"data row7 col7\" >0.768978</td>\n",
              "      <td id=\"T_dee4d_row7_col8\" class=\"data row7 col8\" >0.293391</td>\n",
              "      <td id=\"T_dee4d_row7_col9\" class=\"data row7 col9\" >0.447030</td>\n",
              "      <td id=\"T_dee4d_row7_col10\" class=\"data row7 col10\" >0.697663</td>\n",
              "      <td id=\"T_dee4d_row7_col11\" class=\"data row7 col11\" >0.878875</td>\n",
              "    </tr>\n",
              "  </tbody>\n",
              "</table>\n"
            ],
            "text/plain": [
              "<pandas.io.formats.style.Styler at 0x7fedb2b72c90>"
            ]
          },
          "metadata": {}
        }
      ]
    },
    {
      "cell_type": "code",
      "source": [
        "models_cv_df_style.to_html()"
      ],
      "metadata": {
        "colab": {
          "base_uri": "https://localhost:8080/",
          "height": 146
        },
        "id": "fQlB_JMlY3yx",
        "outputId": "5f04a3f5-8154-4654-b328-964a14a5da96"
      },
      "execution_count": 24,
      "outputs": [
        {
          "output_type": "execute_result",
          "data": {
            "application/vnd.google.colaboratory.intrinsic+json": {
              "type": "string"
            },
            "text/plain": [
              "'<style type=\"text/css\">\\n#T_dee4d_row0_col0, #T_dee4d_row0_col3, #T_dee4d_row0_col7, #T_dee4d_row1_col5, #T_dee4d_row1_col11, #T_dee4d_row2_col2, #T_dee4d_row2_col6, #T_dee4d_row4_col1, #T_dee4d_row4_col4, #T_dee4d_row4_col10, #T_dee4d_row6_col9, #T_dee4d_row7_col8 {\\n  background-color: orange;\\n  color: black;\\n}\\n#T_dee4d_row0_col4, #T_dee4d_row0_col8, #T_dee4d_row0_col10, #T_dee4d_row3_col0, #T_dee4d_row3_col1, #T_dee4d_row4_col3, #T_dee4d_row4_col5, #T_dee4d_row4_col7, #T_dee4d_row4_col9, #T_dee4d_row4_col11, #T_dee4d_row5_col3, #T_dee4d_row5_col5, #T_dee4d_row5_col7, #T_dee4d_row5_col9, #T_dee4d_row5_col11, #T_dee4d_row7_col2, #T_dee4d_row7_col6 {\\n  background-color: yellow;\\n  color: black;\\n}\\n</style>\\n<table id=\"T_dee4d_\" class=\"dataframe\">\\n  <thead>\\n    <tr>\\n      <th class=\"blank level0\" >&nbsp;</th>\\n      <th class=\"col_heading level0 col0\" >mean_fit_time</th>\\n      <th class=\"col_heading level0 col1\" >mean_score_time</th>\\n      <th class=\"col_heading level0 col2\" >mean_test_accuracy</th>\\n      <th class=\"col_heading level0 col3\" >mean_train_accuracy</th>\\n      <th class=\"col_heading level0 col4\" >mean_test_f1</th>\\n      <th class=\"col_heading level0 col5\" >mean_train_f1</th>\\n      <th class=\"col_heading level0 col6\" >mean_test_precision</th>\\n      <th class=\"col_heading level0 col7\" >mean_train_precision</th>\\n      <th class=\"col_heading level0 col8\" >mean_test_recall</th>\\n      <th class=\"col_heading level0 col9\" >mean_train_recall</th>\\n      <th class=\"col_heading level0 col10\" >mean_test_roc_auc</th>\\n      <th class=\"col_heading level0 col11\" >mean_train_roc_auc</th>\\n    </tr>\\n  </thead>\\n  <tbody>\\n    <tr>\\n      <th id=\"T_dee4d_level0_row0\" class=\"row_heading level0 row0\" >LogisticRegression(n_jobs=-1)</th>\\n      <td id=\"T_dee4d_row0_col0\" class=\"data row0 col0\" >0.739155</td>\\n      <td id=\"T_dee4d_row0_col1\" class=\"data row0 col1\" >0.016379</td>\\n      <td id=\"T_dee4d_row0_col2\" class=\"data row0 col2\" >0.649372</td>\\n      <td id=\"T_dee4d_row0_col3\" class=\"data row0 col3\" >0.653353</td>\\n      <td id=\"T_dee4d_row0_col4\" class=\"data row0 col4\" >0.465099</td>\\n      <td id=\"T_dee4d_row0_col5\" class=\"data row0 col5\" >0.470368</td>\\n      <td id=\"T_dee4d_row0_col6\" class=\"data row0 col6\" >0.370612</td>\\n      <td id=\"T_dee4d_row0_col7\" class=\"data row0 col7\" >0.374926</td>\\n      <td id=\"T_dee4d_row0_col8\" class=\"data row0 col8\" >0.624628</td>\\n      <td id=\"T_dee4d_row0_col9\" class=\"data row0 col9\" >0.631003</td>\\n      <td id=\"T_dee4d_row0_col10\" class=\"data row0 col10\" >0.707766</td>\\n      <td id=\"T_dee4d_row0_col11\" class=\"data row0 col11\" >0.712220</td>\\n    </tr>\\n    <tr>\\n      <th id=\"T_dee4d_level0_row1\" class=\"row_heading level0 row1\" >GaussianNB()</th>\\n      <td id=\"T_dee4d_row1_col0\" class=\"data row1 col0\" >0.829836</td>\\n      <td id=\"T_dee4d_row1_col1\" class=\"data row1 col1\" >0.027878</td>\\n      <td id=\"T_dee4d_row1_col2\" class=\"data row1 col2\" >0.681661</td>\\n      <td id=\"T_dee4d_row1_col3\" class=\"data row1 col3\" >0.679474</td>\\n      <td id=\"T_dee4d_row1_col4\" class=\"data row1 col4\" >0.433172</td>\\n      <td id=\"T_dee4d_row1_col5\" class=\"data row1 col5\" >0.429698</td>\\n      <td id=\"T_dee4d_row1_col6\" class=\"data row1 col6\" >0.395317</td>\\n      <td id=\"T_dee4d_row1_col7\" class=\"data row1 col7\" >0.391780</td>\\n      <td id=\"T_dee4d_row1_col8\" class=\"data row1 col8\" >0.500089</td>\\n      <td id=\"T_dee4d_row1_col9\" class=\"data row1 col9\" >0.497647</td>\\n      <td id=\"T_dee4d_row1_col10\" class=\"data row1 col10\" >0.670550</td>\\n      <td id=\"T_dee4d_row1_col11\" class=\"data row1 col11\" >0.671491</td>\\n    </tr>\\n    <tr>\\n      <th id=\"T_dee4d_level0_row2\" class=\"row_heading level0 row2\" >KNeighborsClassifier()</th>\\n      <td id=\"T_dee4d_row2_col0\" class=\"data row2 col0\" >0.751049</td>\\n      <td id=\"T_dee4d_row2_col1\" class=\"data row2 col1\" >5.218845</td>\\n      <td id=\"T_dee4d_row2_col2\" class=\"data row2 col2\" >0.582624</td>\\n      <td id=\"T_dee4d_row2_col3\" class=\"data row2 col3\" >0.753072</td>\\n      <td id=\"T_dee4d_row2_col4\" class=\"data row2 col4\" >0.408378</td>\\n      <td id=\"T_dee4d_row2_col5\" class=\"data row2 col5\" >0.638189</td>\\n      <td id=\"T_dee4d_row2_col6\" class=\"data row2 col6\" >0.312137</td>\\n      <td id=\"T_dee4d_row2_col7\" class=\"data row2 col7\" >0.496611</td>\\n      <td id=\"T_dee4d_row2_col8\" class=\"data row2 col8\" >0.590526</td>\\n      <td id=\"T_dee4d_row2_col9\" class=\"data row2 col9\" >0.892708</td>\\n      <td id=\"T_dee4d_row2_col10\" class=\"data row2 col10\" >0.622854</td>\\n      <td id=\"T_dee4d_row2_col11\" class=\"data row2 col11\" >0.898071</td>\\n    </tr>\\n    <tr>\\n      <th id=\"T_dee4d_level0_row3\" class=\"row_heading level0 row3\" >SVC()</th>\\n      <td id=\"T_dee4d_row3_col0\" class=\"data row3 col0\" >43.699216</td>\\n      <td id=\"T_dee4d_row3_col1\" class=\"data row3 col1\" >6.156550</td>\\n      <td id=\"T_dee4d_row3_col2\" class=\"data row3 col2\" >0.676836</td>\\n      <td id=\"T_dee4d_row3_col3\" class=\"data row3 col3\" >0.725725</td>\\n      <td id=\"T_dee4d_row3_col4\" class=\"data row3 col4\" >0.434082</td>\\n      <td id=\"T_dee4d_row3_col5\" class=\"data row3 col5\" >0.522247</td>\\n      <td id=\"T_dee4d_row3_col6\" class=\"data row3 col6\" >0.379111</td>\\n      <td id=\"T_dee4d_row3_col7\" class=\"data row3 col7\" >0.454071</td>\\n      <td id=\"T_dee4d_row3_col8\" class=\"data row3 col8\" >0.508247</td>\\n      <td id=\"T_dee4d_row3_col9\" class=\"data row3 col9\" >0.614524</td>\\n      <td id=\"T_dee4d_row3_col10\" class=\"data row3 col10\" >0.678092</td>\\n      <td id=\"T_dee4d_row3_col11\" class=\"data row3 col11\" >0.761598</td>\\n    </tr>\\n    <tr>\\n      <th id=\"T_dee4d_level0_row4\" class=\"row_heading level0 row4\" >DecisionTreeClassifier()</th>\\n      <td id=\"T_dee4d_row4_col0\" class=\"data row4 col0\" >1.615918</td>\\n      <td id=\"T_dee4d_row4_col1\" class=\"data row4 col1\" >0.015562</td>\\n      <td id=\"T_dee4d_row4_col2\" class=\"data row4 col2\" >0.652407</td>\\n      <td id=\"T_dee4d_row4_col3\" class=\"data row4 col3\" >1.000000</td>\\n      <td id=\"T_dee4d_row4_col4\" class=\"data row4 col4\" >0.360973</td>\\n      <td id=\"T_dee4d_row4_col5\" class=\"data row4 col5\" >1.000000</td>\\n      <td id=\"T_dee4d_row4_col6\" class=\"data row4 col6\" >0.327325</td>\\n      <td id=\"T_dee4d_row4_col7\" class=\"data row4 col7\" >1.000000</td>\\n      <td id=\"T_dee4d_row4_col8\" class=\"data row4 col8\" >0.402720</td>\\n      <td id=\"T_dee4d_row4_col9\" class=\"data row4 col9\" >1.000000</td>\\n      <td id=\"T_dee4d_row4_col10\" class=\"data row4 col10\" >0.567847</td>\\n      <td id=\"T_dee4d_row4_col11\" class=\"data row4 col11\" >1.000000</td>\\n    </tr>\\n    <tr>\\n      <th id=\"T_dee4d_level0_row5\" class=\"row_heading level0 row5\" >RandomForestClassifier(n_jobs=-1)</th>\\n      <td id=\"T_dee4d_row5_col0\" class=\"data row5 col0\" >13.703251</td>\\n      <td id=\"T_dee4d_row5_col1\" class=\"data row5 col1\" >0.304821</td>\\n      <td id=\"T_dee4d_row5_col2\" class=\"data row5 col2\" >0.745163</td>\\n      <td id=\"T_dee4d_row5_col3\" class=\"data row5 col3\" >1.000000</td>\\n      <td id=\"T_dee4d_row5_col4\" class=\"data row5 col4\" >0.391103</td>\\n      <td id=\"T_dee4d_row5_col5\" class=\"data row5 col5\" >1.000000</td>\\n      <td id=\"T_dee4d_row5_col6\" class=\"data row5 col6\" >0.470573</td>\\n      <td id=\"T_dee4d_row5_col7\" class=\"data row5 col7\" >1.000000</td>\\n      <td id=\"T_dee4d_row5_col8\" class=\"data row5 col8\" >0.335594</td>\\n      <td id=\"T_dee4d_row5_col9\" class=\"data row5 col9\" >1.000000</td>\\n      <td id=\"T_dee4d_row5_col10\" class=\"data row5 col10\" >0.690340</td>\\n      <td id=\"T_dee4d_row5_col11\" class=\"data row5 col11\" >1.000000</td>\\n    </tr>\\n    <tr>\\n      <th id=\"T_dee4d_level0_row6\" class=\"row_heading level0 row6\" >XGBClassifier(n_jobs=-1)</th>\\n      <td id=\"T_dee4d_row6_col0\" class=\"data row6 col0\" >6.975440</td>\\n      <td id=\"T_dee4d_row6_col1\" class=\"data row6 col1\" >0.033663</td>\\n      <td id=\"T_dee4d_row6_col2\" class=\"data row6 col2\" >0.743514</td>\\n      <td id=\"T_dee4d_row6_col3\" class=\"data row6 col3\" >0.759182</td>\\n      <td id=\"T_dee4d_row6_col4\" class=\"data row6 col4\" >0.402890</td>\\n      <td id=\"T_dee4d_row6_col5\" class=\"data row6 col5\" >0.439589</td>\\n      <td id=\"T_dee4d_row6_col6\" class=\"data row6 col6\" >0.467566</td>\\n      <td id=\"T_dee4d_row6_col7\" class=\"data row6 col7\" >0.509669</td>\\n      <td id=\"T_dee4d_row6_col8\" class=\"data row6 col8\" >0.355085</td>\\n      <td id=\"T_dee4d_row6_col9\" class=\"data row6 col9\" >0.387279</td>\\n      <td id=\"T_dee4d_row6_col10\" class=\"data row6 col10\" >0.693713</td>\\n      <td id=\"T_dee4d_row6_col11\" class=\"data row6 col11\" >0.732819</td>\\n    </tr>\\n    <tr>\\n      <th id=\"T_dee4d_level0_row7\" class=\"row_heading level0 row7\" >LGBMClassifier()</th>\\n      <td id=\"T_dee4d_row7_col0\" class=\"data row7 col0\" >2.369359</td>\\n      <td id=\"T_dee4d_row7_col1\" class=\"data row7 col1\" >0.043391</td>\\n      <td id=\"T_dee4d_row7_col2\" class=\"data row7 col2\" >0.759095</td>\\n      <td id=\"T_dee4d_row7_col3\" class=\"data row7 col3\" >0.832339</td>\\n      <td id=\"T_dee4d_row7_col4\" class=\"data row7 col4\" >0.372257</td>\\n      <td id=\"T_dee4d_row7_col5\" class=\"data row7 col5\" >0.565359</td>\\n      <td id=\"T_dee4d_row7_col6\" class=\"data row7 col6\" >0.511131</td>\\n      <td id=\"T_dee4d_row7_col7\" class=\"data row7 col7\" >0.768978</td>\\n      <td id=\"T_dee4d_row7_col8\" class=\"data row7 col8\" >0.293391</td>\\n      <td id=\"T_dee4d_row7_col9\" class=\"data row7 col9\" >0.447030</td>\\n      <td id=\"T_dee4d_row7_col10\" class=\"data row7 col10\" >0.697663</td>\\n      <td id=\"T_dee4d_row7_col11\" class=\"data row7 col11\" >0.878875</td>\\n    </tr>\\n  </tbody>\\n</table>\\n'"
            ]
          },
          "metadata": {},
          "execution_count": 24
        }
      ]
    },
    {
      "cell_type": "code",
      "source": [
        "from IPython.display import HTML\n",
        "\n",
        "HTML(models_cv_df_style.to_html())"
      ],
      "metadata": {
        "colab": {
          "base_uri": "https://localhost:8080/",
          "height": 320
        },
        "id": "5qhfJ2V7a7GO",
        "outputId": "3d6d08c5-2133-46fb-fced-8e2f989bfe63"
      },
      "execution_count": 27,
      "outputs": [
        {
          "output_type": "execute_result",
          "data": {
            "text/html": [
              "<style type=\"text/css\">\n",
              "#T_dee4d_row0_col0, #T_dee4d_row0_col3, #T_dee4d_row0_col7, #T_dee4d_row1_col5, #T_dee4d_row1_col11, #T_dee4d_row2_col2, #T_dee4d_row2_col6, #T_dee4d_row4_col1, #T_dee4d_row4_col4, #T_dee4d_row4_col10, #T_dee4d_row6_col9, #T_dee4d_row7_col8 {\n",
              "  background-color: orange;\n",
              "  color: black;\n",
              "}\n",
              "#T_dee4d_row0_col4, #T_dee4d_row0_col8, #T_dee4d_row0_col10, #T_dee4d_row3_col0, #T_dee4d_row3_col1, #T_dee4d_row4_col3, #T_dee4d_row4_col5, #T_dee4d_row4_col7, #T_dee4d_row4_col9, #T_dee4d_row4_col11, #T_dee4d_row5_col3, #T_dee4d_row5_col5, #T_dee4d_row5_col7, #T_dee4d_row5_col9, #T_dee4d_row5_col11, #T_dee4d_row7_col2, #T_dee4d_row7_col6 {\n",
              "  background-color: yellow;\n",
              "  color: black;\n",
              "}\n",
              "</style>\n",
              "<table id=\"T_dee4d_\" class=\"dataframe\">\n",
              "  <thead>\n",
              "    <tr>\n",
              "      <th class=\"blank level0\" >&nbsp;</th>\n",
              "      <th class=\"col_heading level0 col0\" >mean_fit_time</th>\n",
              "      <th class=\"col_heading level0 col1\" >mean_score_time</th>\n",
              "      <th class=\"col_heading level0 col2\" >mean_test_accuracy</th>\n",
              "      <th class=\"col_heading level0 col3\" >mean_train_accuracy</th>\n",
              "      <th class=\"col_heading level0 col4\" >mean_test_f1</th>\n",
              "      <th class=\"col_heading level0 col5\" >mean_train_f1</th>\n",
              "      <th class=\"col_heading level0 col6\" >mean_test_precision</th>\n",
              "      <th class=\"col_heading level0 col7\" >mean_train_precision</th>\n",
              "      <th class=\"col_heading level0 col8\" >mean_test_recall</th>\n",
              "      <th class=\"col_heading level0 col9\" >mean_train_recall</th>\n",
              "      <th class=\"col_heading level0 col10\" >mean_test_roc_auc</th>\n",
              "      <th class=\"col_heading level0 col11\" >mean_train_roc_auc</th>\n",
              "    </tr>\n",
              "  </thead>\n",
              "  <tbody>\n",
              "    <tr>\n",
              "      <th id=\"T_dee4d_level0_row0\" class=\"row_heading level0 row0\" >LogisticRegression(n_jobs=-1)</th>\n",
              "      <td id=\"T_dee4d_row0_col0\" class=\"data row0 col0\" >0.739155</td>\n",
              "      <td id=\"T_dee4d_row0_col1\" class=\"data row0 col1\" >0.016379</td>\n",
              "      <td id=\"T_dee4d_row0_col2\" class=\"data row0 col2\" >0.649372</td>\n",
              "      <td id=\"T_dee4d_row0_col3\" class=\"data row0 col3\" >0.653353</td>\n",
              "      <td id=\"T_dee4d_row0_col4\" class=\"data row0 col4\" >0.465099</td>\n",
              "      <td id=\"T_dee4d_row0_col5\" class=\"data row0 col5\" >0.470368</td>\n",
              "      <td id=\"T_dee4d_row0_col6\" class=\"data row0 col6\" >0.370612</td>\n",
              "      <td id=\"T_dee4d_row0_col7\" class=\"data row0 col7\" >0.374926</td>\n",
              "      <td id=\"T_dee4d_row0_col8\" class=\"data row0 col8\" >0.624628</td>\n",
              "      <td id=\"T_dee4d_row0_col9\" class=\"data row0 col9\" >0.631003</td>\n",
              "      <td id=\"T_dee4d_row0_col10\" class=\"data row0 col10\" >0.707766</td>\n",
              "      <td id=\"T_dee4d_row0_col11\" class=\"data row0 col11\" >0.712220</td>\n",
              "    </tr>\n",
              "    <tr>\n",
              "      <th id=\"T_dee4d_level0_row1\" class=\"row_heading level0 row1\" >GaussianNB()</th>\n",
              "      <td id=\"T_dee4d_row1_col0\" class=\"data row1 col0\" >0.829836</td>\n",
              "      <td id=\"T_dee4d_row1_col1\" class=\"data row1 col1\" >0.027878</td>\n",
              "      <td id=\"T_dee4d_row1_col2\" class=\"data row1 col2\" >0.681661</td>\n",
              "      <td id=\"T_dee4d_row1_col3\" class=\"data row1 col3\" >0.679474</td>\n",
              "      <td id=\"T_dee4d_row1_col4\" class=\"data row1 col4\" >0.433172</td>\n",
              "      <td id=\"T_dee4d_row1_col5\" class=\"data row1 col5\" >0.429698</td>\n",
              "      <td id=\"T_dee4d_row1_col6\" class=\"data row1 col6\" >0.395317</td>\n",
              "      <td id=\"T_dee4d_row1_col7\" class=\"data row1 col7\" >0.391780</td>\n",
              "      <td id=\"T_dee4d_row1_col8\" class=\"data row1 col8\" >0.500089</td>\n",
              "      <td id=\"T_dee4d_row1_col9\" class=\"data row1 col9\" >0.497647</td>\n",
              "      <td id=\"T_dee4d_row1_col10\" class=\"data row1 col10\" >0.670550</td>\n",
              "      <td id=\"T_dee4d_row1_col11\" class=\"data row1 col11\" >0.671491</td>\n",
              "    </tr>\n",
              "    <tr>\n",
              "      <th id=\"T_dee4d_level0_row2\" class=\"row_heading level0 row2\" >KNeighborsClassifier()</th>\n",
              "      <td id=\"T_dee4d_row2_col0\" class=\"data row2 col0\" >0.751049</td>\n",
              "      <td id=\"T_dee4d_row2_col1\" class=\"data row2 col1\" >5.218845</td>\n",
              "      <td id=\"T_dee4d_row2_col2\" class=\"data row2 col2\" >0.582624</td>\n",
              "      <td id=\"T_dee4d_row2_col3\" class=\"data row2 col3\" >0.753072</td>\n",
              "      <td id=\"T_dee4d_row2_col4\" class=\"data row2 col4\" >0.408378</td>\n",
              "      <td id=\"T_dee4d_row2_col5\" class=\"data row2 col5\" >0.638189</td>\n",
              "      <td id=\"T_dee4d_row2_col6\" class=\"data row2 col6\" >0.312137</td>\n",
              "      <td id=\"T_dee4d_row2_col7\" class=\"data row2 col7\" >0.496611</td>\n",
              "      <td id=\"T_dee4d_row2_col8\" class=\"data row2 col8\" >0.590526</td>\n",
              "      <td id=\"T_dee4d_row2_col9\" class=\"data row2 col9\" >0.892708</td>\n",
              "      <td id=\"T_dee4d_row2_col10\" class=\"data row2 col10\" >0.622854</td>\n",
              "      <td id=\"T_dee4d_row2_col11\" class=\"data row2 col11\" >0.898071</td>\n",
              "    </tr>\n",
              "    <tr>\n",
              "      <th id=\"T_dee4d_level0_row3\" class=\"row_heading level0 row3\" >SVC()</th>\n",
              "      <td id=\"T_dee4d_row3_col0\" class=\"data row3 col0\" >43.699216</td>\n",
              "      <td id=\"T_dee4d_row3_col1\" class=\"data row3 col1\" >6.156550</td>\n",
              "      <td id=\"T_dee4d_row3_col2\" class=\"data row3 col2\" >0.676836</td>\n",
              "      <td id=\"T_dee4d_row3_col3\" class=\"data row3 col3\" >0.725725</td>\n",
              "      <td id=\"T_dee4d_row3_col4\" class=\"data row3 col4\" >0.434082</td>\n",
              "      <td id=\"T_dee4d_row3_col5\" class=\"data row3 col5\" >0.522247</td>\n",
              "      <td id=\"T_dee4d_row3_col6\" class=\"data row3 col6\" >0.379111</td>\n",
              "      <td id=\"T_dee4d_row3_col7\" class=\"data row3 col7\" >0.454071</td>\n",
              "      <td id=\"T_dee4d_row3_col8\" class=\"data row3 col8\" >0.508247</td>\n",
              "      <td id=\"T_dee4d_row3_col9\" class=\"data row3 col9\" >0.614524</td>\n",
              "      <td id=\"T_dee4d_row3_col10\" class=\"data row3 col10\" >0.678092</td>\n",
              "      <td id=\"T_dee4d_row3_col11\" class=\"data row3 col11\" >0.761598</td>\n",
              "    </tr>\n",
              "    <tr>\n",
              "      <th id=\"T_dee4d_level0_row4\" class=\"row_heading level0 row4\" >DecisionTreeClassifier()</th>\n",
              "      <td id=\"T_dee4d_row4_col0\" class=\"data row4 col0\" >1.615918</td>\n",
              "      <td id=\"T_dee4d_row4_col1\" class=\"data row4 col1\" >0.015562</td>\n",
              "      <td id=\"T_dee4d_row4_col2\" class=\"data row4 col2\" >0.652407</td>\n",
              "      <td id=\"T_dee4d_row4_col3\" class=\"data row4 col3\" >1.000000</td>\n",
              "      <td id=\"T_dee4d_row4_col4\" class=\"data row4 col4\" >0.360973</td>\n",
              "      <td id=\"T_dee4d_row4_col5\" class=\"data row4 col5\" >1.000000</td>\n",
              "      <td id=\"T_dee4d_row4_col6\" class=\"data row4 col6\" >0.327325</td>\n",
              "      <td id=\"T_dee4d_row4_col7\" class=\"data row4 col7\" >1.000000</td>\n",
              "      <td id=\"T_dee4d_row4_col8\" class=\"data row4 col8\" >0.402720</td>\n",
              "      <td id=\"T_dee4d_row4_col9\" class=\"data row4 col9\" >1.000000</td>\n",
              "      <td id=\"T_dee4d_row4_col10\" class=\"data row4 col10\" >0.567847</td>\n",
              "      <td id=\"T_dee4d_row4_col11\" class=\"data row4 col11\" >1.000000</td>\n",
              "    </tr>\n",
              "    <tr>\n",
              "      <th id=\"T_dee4d_level0_row5\" class=\"row_heading level0 row5\" >RandomForestClassifier(n_jobs=-1)</th>\n",
              "      <td id=\"T_dee4d_row5_col0\" class=\"data row5 col0\" >13.703251</td>\n",
              "      <td id=\"T_dee4d_row5_col1\" class=\"data row5 col1\" >0.304821</td>\n",
              "      <td id=\"T_dee4d_row5_col2\" class=\"data row5 col2\" >0.745163</td>\n",
              "      <td id=\"T_dee4d_row5_col3\" class=\"data row5 col3\" >1.000000</td>\n",
              "      <td id=\"T_dee4d_row5_col4\" class=\"data row5 col4\" >0.391103</td>\n",
              "      <td id=\"T_dee4d_row5_col5\" class=\"data row5 col5\" >1.000000</td>\n",
              "      <td id=\"T_dee4d_row5_col6\" class=\"data row5 col6\" >0.470573</td>\n",
              "      <td id=\"T_dee4d_row5_col7\" class=\"data row5 col7\" >1.000000</td>\n",
              "      <td id=\"T_dee4d_row5_col8\" class=\"data row5 col8\" >0.335594</td>\n",
              "      <td id=\"T_dee4d_row5_col9\" class=\"data row5 col9\" >1.000000</td>\n",
              "      <td id=\"T_dee4d_row5_col10\" class=\"data row5 col10\" >0.690340</td>\n",
              "      <td id=\"T_dee4d_row5_col11\" class=\"data row5 col11\" >1.000000</td>\n",
              "    </tr>\n",
              "    <tr>\n",
              "      <th id=\"T_dee4d_level0_row6\" class=\"row_heading level0 row6\" >XGBClassifier(n_jobs=-1)</th>\n",
              "      <td id=\"T_dee4d_row6_col0\" class=\"data row6 col0\" >6.975440</td>\n",
              "      <td id=\"T_dee4d_row6_col1\" class=\"data row6 col1\" >0.033663</td>\n",
              "      <td id=\"T_dee4d_row6_col2\" class=\"data row6 col2\" >0.743514</td>\n",
              "      <td id=\"T_dee4d_row6_col3\" class=\"data row6 col3\" >0.759182</td>\n",
              "      <td id=\"T_dee4d_row6_col4\" class=\"data row6 col4\" >0.402890</td>\n",
              "      <td id=\"T_dee4d_row6_col5\" class=\"data row6 col5\" >0.439589</td>\n",
              "      <td id=\"T_dee4d_row6_col6\" class=\"data row6 col6\" >0.467566</td>\n",
              "      <td id=\"T_dee4d_row6_col7\" class=\"data row6 col7\" >0.509669</td>\n",
              "      <td id=\"T_dee4d_row6_col8\" class=\"data row6 col8\" >0.355085</td>\n",
              "      <td id=\"T_dee4d_row6_col9\" class=\"data row6 col9\" >0.387279</td>\n",
              "      <td id=\"T_dee4d_row6_col10\" class=\"data row6 col10\" >0.693713</td>\n",
              "      <td id=\"T_dee4d_row6_col11\" class=\"data row6 col11\" >0.732819</td>\n",
              "    </tr>\n",
              "    <tr>\n",
              "      <th id=\"T_dee4d_level0_row7\" class=\"row_heading level0 row7\" >LGBMClassifier()</th>\n",
              "      <td id=\"T_dee4d_row7_col0\" class=\"data row7 col0\" >2.369359</td>\n",
              "      <td id=\"T_dee4d_row7_col1\" class=\"data row7 col1\" >0.043391</td>\n",
              "      <td id=\"T_dee4d_row7_col2\" class=\"data row7 col2\" >0.759095</td>\n",
              "      <td id=\"T_dee4d_row7_col3\" class=\"data row7 col3\" >0.832339</td>\n",
              "      <td id=\"T_dee4d_row7_col4\" class=\"data row7 col4\" >0.372257</td>\n",
              "      <td id=\"T_dee4d_row7_col5\" class=\"data row7 col5\" >0.565359</td>\n",
              "      <td id=\"T_dee4d_row7_col6\" class=\"data row7 col6\" >0.511131</td>\n",
              "      <td id=\"T_dee4d_row7_col7\" class=\"data row7 col7\" >0.768978</td>\n",
              "      <td id=\"T_dee4d_row7_col8\" class=\"data row7 col8\" >0.293391</td>\n",
              "      <td id=\"T_dee4d_row7_col9\" class=\"data row7 col9\" >0.447030</td>\n",
              "      <td id=\"T_dee4d_row7_col10\" class=\"data row7 col10\" >0.697663</td>\n",
              "      <td id=\"T_dee4d_row7_col11\" class=\"data row7 col11\" >0.878875</td>\n",
              "    </tr>\n",
              "  </tbody>\n",
              "</table>\n"
            ],
            "text/plain": [
              "<IPython.core.display.HTML object>"
            ]
          },
          "metadata": {},
          "execution_count": 27
        }
      ]
    },
    {
      "cell_type": "code",
      "source": [
        ""
      ],
      "metadata": {
        "id": "nZ1RlF-gdJfk"
      },
      "execution_count": null,
      "outputs": []
    }
  ]
}